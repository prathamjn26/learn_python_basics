{
  "nbformat": 4,
  "nbformat_minor": 0,
  "metadata": {
    "colab": {
      "name": "Strings.ipynb",
      "provenance": [],
      "authorship_tag": "ABX9TyMPFvLY5KqdvBMHjSjXwBX5",
      "include_colab_link": true
    },
    "kernelspec": {
      "name": "python3",
      "display_name": "Python 3"
    }
  },
  "cells": [
    {
      "cell_type": "markdown",
      "metadata": {
        "id": "view-in-github",
        "colab_type": "text"
      },
      "source": [
        "<a href=\"https://colab.research.google.com/github/prathamjn26/learn_python_basics/blob/master/Strings.ipynb\" target=\"_parent\"><img src=\"https://colab.research.google.com/assets/colab-badge.svg\" alt=\"Open In Colab\"/></a>"
      ]
    },
    {
      "cell_type": "markdown",
      "metadata": {
        "id": "Auxv7KogCzuI",
        "colab_type": "text"
      },
      "source": [
        "It is used to record text info such as names.\n",
        "String in python are actually a sequence,which basically means python will keep track of every element in the string as a sequence."
      ]
    },
    {
      "cell_type": "markdown",
      "metadata": {
        "id": "vFuiFNUfDPdM",
        "colab_type": "text"
      },
      "source": [
        "#Creating a String\n",
        "It can be created using either a single quote or double quotes.\n",
        "\n",
        "eg. 'hello'\n",
        "    \"hello\"\n",
        "    both are correct"
      ]
    },
    {
      "cell_type": "code",
      "metadata": {
        "id": "NkG0o7brCuu9",
        "colab_type": "code",
        "colab": {
          "base_uri": "https://localhost:8080/",
          "height": 129
        },
        "outputId": "226d288f-a4f1-4ff9-b653-2e53b59ff928"
      },
      "source": [
        "'I'm learing python'  #this will give an error beacuse of single string."
      ],
      "execution_count": 1,
      "outputs": [
        {
          "output_type": "error",
          "ename": "SyntaxError",
          "evalue": "ignored",
          "traceback": [
            "\u001b[0;36m  File \u001b[0;32m\"<ipython-input-1-93ed2e19d123>\"\u001b[0;36m, line \u001b[0;32m1\u001b[0m\n\u001b[0;31m    'I'm learing python'  #this will give an error beacuse of single string.\u001b[0m\n\u001b[0m       ^\u001b[0m\n\u001b[0;31mSyntaxError\u001b[0m\u001b[0;31m:\u001b[0m invalid syntax\n"
          ]
        }
      ]
    },
    {
      "cell_type": "code",
      "metadata": {
        "id": "FkETcwTFEEdc",
        "colab_type": "code",
        "colab": {
          "base_uri": "https://localhost:8080/",
          "height": 35
        },
        "outputId": "511675d6-89b6-4655-9f04-f8290053adfa"
      },
      "source": [
        "\"I'm learning python\""
      ],
      "execution_count": 2,
      "outputs": [
        {
          "output_type": "execute_result",
          "data": {
            "application/vnd.google.colaboratory.intrinsic+json": {
              "type": "string"
            },
            "text/plain": [
              "\"I'm learning python\""
            ]
          },
          "metadata": {
            "tags": []
          },
          "execution_count": 2
        }
      ]
    },
    {
      "cell_type": "markdown",
      "metadata": {
        "id": "vXYLJIAlHTK9",
        "colab_type": "text"
      },
      "source": [
        "#String basics"
      ]
    },
    {
      "cell_type": "code",
      "metadata": {
        "id": "emU0S58-HT7F",
        "colab_type": "code",
        "colab": {}
      },
      "source": [
        "s=\"hello world\""
      ],
      "execution_count": 3,
      "outputs": []
    },
    {
      "cell_type": "markdown",
      "metadata": {
        "id": "SyaVBBVlMZLo",
        "colab_type": "text"
      },
      "source": [
        "This is indexing which is allow us to grab a single letter"
      ]
    },
    {
      "cell_type": "code",
      "metadata": {
        "id": "UeHqZIazH6OU",
        "colab_type": "code",
        "colab": {
          "base_uri": "https://localhost:8080/",
          "height": 35
        },
        "outputId": "c60531fa-0ce4-40bf-cfce-9dd369d99149"
      },
      "source": [
        "s[0]"
      ],
      "execution_count": 4,
      "outputs": [
        {
          "output_type": "execute_result",
          "data": {
            "application/vnd.google.colaboratory.intrinsic+json": {
              "type": "string"
            },
            "text/plain": [
              "'h'"
            ]
          },
          "metadata": {
            "tags": []
          },
          "execution_count": 4
        }
      ]
    },
    {
      "cell_type": "code",
      "metadata": {
        "id": "Lyxfi875JCMg",
        "colab_type": "code",
        "colab": {
          "base_uri": "https://localhost:8080/",
          "height": 163
        },
        "outputId": "cc0a2335-db1e-4585-c18b-3ab2dfa26021"
      },
      "source": [
        "s[12] #will give an error because this index is not present"
      ],
      "execution_count": 5,
      "outputs": [
        {
          "output_type": "error",
          "ename": "IndexError",
          "evalue": "ignored",
          "traceback": [
            "\u001b[0;31m---------------------------------------------------------------------------\u001b[0m",
            "\u001b[0;31mIndexError\u001b[0m                                Traceback (most recent call last)",
            "\u001b[0;32m<ipython-input-5-2053bc7ec099>\u001b[0m in \u001b[0;36m<module>\u001b[0;34m()\u001b[0m\n\u001b[0;32m----> 1\u001b[0;31m \u001b[0ms\u001b[0m\u001b[0;34m[\u001b[0m\u001b[0;36m12\u001b[0m\u001b[0;34m]\u001b[0m \u001b[0;31m#will give an error because this index is not present\u001b[0m\u001b[0;34m\u001b[0m\u001b[0;34m\u001b[0m\u001b[0m\n\u001b[0m",
            "\u001b[0;31mIndexError\u001b[0m: string index out of range"
          ]
        }
      ]
    },
    {
      "cell_type": "code",
      "metadata": {
        "id": "IadMoeIGiqUV",
        "colab_type": "code",
        "colab": {
          "base_uri": "https://localhost:8080/",
          "height": 35
        },
        "outputId": "7ad30e31-b66f-4efb-886b-7976645aa73b"
      },
      "source": [
        "s[len(s)-1]"
      ],
      "execution_count": 47,
      "outputs": [
        {
          "output_type": "execute_result",
          "data": {
            "application/vnd.google.colaboratory.intrinsic+json": {
              "type": "string"
            },
            "text/plain": [
              "'d'"
            ]
          },
          "metadata": {
            "tags": []
          },
          "execution_count": 47
        }
      ]
    },
    {
      "cell_type": "code",
      "metadata": {
        "id": "vI6aiaeFJDww",
        "colab_type": "code",
        "colab": {
          "base_uri": "https://localhost:8080/",
          "height": 35
        },
        "outputId": "e0abea8a-e7c8-4c83-e5ea-0267bcdfb7d2"
      },
      "source": [
        "s[-1] #to get last element of string directly"
      ],
      "execution_count": 6,
      "outputs": [
        {
          "output_type": "execute_result",
          "data": {
            "application/vnd.google.colaboratory.intrinsic+json": {
              "type": "string"
            },
            "text/plain": [
              "'d'"
            ]
          },
          "metadata": {
            "tags": []
          },
          "execution_count": 6
        }
      ]
    },
    {
      "cell_type": "code",
      "metadata": {
        "id": "kGj0FFSDJZxD",
        "colab_type": "code",
        "colab": {
          "base_uri": "https://localhost:8080/",
          "height": 34
        },
        "outputId": "78d379d8-752c-44f3-e380-9703449b95e6"
      },
      "source": [
        "s.count('l')"
      ],
      "execution_count": 7,
      "outputs": [
        {
          "output_type": "execute_result",
          "data": {
            "text/plain": [
              "3"
            ]
          },
          "metadata": {
            "tags": []
          },
          "execution_count": 7
        }
      ]
    },
    {
      "cell_type": "code",
      "metadata": {
        "id": "HYzka_j3K189",
        "colab_type": "code",
        "colab": {
          "base_uri": "https://localhost:8080/",
          "height": 34
        },
        "outputId": "90323452-c0f1-431d-9f64-3ae306b4bada"
      },
      "source": [
        "s.count('ol')"
      ],
      "execution_count": 8,
      "outputs": [
        {
          "output_type": "execute_result",
          "data": {
            "text/plain": [
              "0"
            ]
          },
          "metadata": {
            "tags": []
          },
          "execution_count": 8
        }
      ]
    },
    {
      "cell_type": "code",
      "metadata": {
        "id": "s0yzVrEVLPct",
        "colab_type": "code",
        "colab": {
          "base_uri": "https://localhost:8080/",
          "height": 34
        },
        "outputId": "d99cfe4b-00f1-4aa1-edaa-83e7a4cfa826"
      },
      "source": [
        "s.count('lo')"
      ],
      "execution_count": 9,
      "outputs": [
        {
          "output_type": "execute_result",
          "data": {
            "text/plain": [
              "1"
            ]
          },
          "metadata": {
            "tags": []
          },
          "execution_count": 9
        }
      ]
    },
    {
      "cell_type": "code",
      "metadata": {
        "id": "xYDZ15ExLVAK",
        "colab_type": "code",
        "colab": {
          "base_uri": "https://localhost:8080/",
          "height": 34
        },
        "outputId": "79efbfcd-0bfd-4253-b436-96db016bfb32"
      },
      "source": [
        "s.islower()"
      ],
      "execution_count": 10,
      "outputs": [
        {
          "output_type": "execute_result",
          "data": {
            "text/plain": [
              "True"
            ]
          },
          "metadata": {
            "tags": []
          },
          "execution_count": 10
        }
      ]
    },
    {
      "cell_type": "markdown",
      "metadata": {
        "id": "QWr8hl_hMkQG",
        "colab_type": "text"
      },
      "source": [
        "#*String slicing"
      ]
    },
    {
      "cell_type": "markdown",
      "metadata": {
        "id": "ZkxIFLLfMu0A",
        "colab_type": "text"
      },
      "source": [
        "Slicing allow you to grab a subsection of string means multiple characters,a slice of string.\n"
      ]
    },
    {
      "cell_type": "markdown",
      "metadata": {
        "id": "j8ojRg2jM9Dz",
        "colab_type": "text"
      },
      "source": [
        "Syntax:[start:end:step]"
      ]
    },
    {
      "cell_type": "markdown",
      "metadata": {
        "id": "rRWiva2AQa5B",
        "colab_type": "text"
      },
      "source": [
        "hello world \n",
        "0,-10,-9,-8,-7,-6,-5,-4,-3,-2,-1"
      ]
    },
    {
      "cell_type": "code",
      "metadata": {
        "id": "VFDaECiBMAnc",
        "colab_type": "code",
        "colab": {
          "base_uri": "https://localhost:8080/",
          "height": 35
        },
        "outputId": "134ff17f-b08b-4e57-e03d-110cab58786e"
      },
      "source": [
        "s[::] #it takes bydefault value"
      ],
      "execution_count": 11,
      "outputs": [
        {
          "output_type": "execute_result",
          "data": {
            "application/vnd.google.colaboratory.intrinsic+json": {
              "type": "string"
            },
            "text/plain": [
              "'hello world'"
            ]
          },
          "metadata": {
            "tags": []
          },
          "execution_count": 11
        }
      ]
    },
    {
      "cell_type": "code",
      "metadata": {
        "id": "-pLWiv_6OLn4",
        "colab_type": "code",
        "colab": {
          "base_uri": "https://localhost:8080/",
          "height": 35
        },
        "outputId": "ecb15664-8679-4488-cc32-a34a270fb4dc"
      },
      "source": [
        "s[::-1] #for reverse the string"
      ],
      "execution_count": 12,
      "outputs": [
        {
          "output_type": "execute_result",
          "data": {
            "application/vnd.google.colaboratory.intrinsic+json": {
              "type": "string"
            },
            "text/plain": [
              "'dlrow olleh'"
            ]
          },
          "metadata": {
            "tags": []
          },
          "execution_count": 12
        }
      ]
    },
    {
      "cell_type": "code",
      "metadata": {
        "id": "ND5OGyD0LubS",
        "colab_type": "code",
        "colab": {
          "base_uri": "https://localhost:8080/",
          "height": 35
        },
        "outputId": "b451188d-4bf5-40bd-d0d7-71ba76608862"
      },
      "source": [
        "s[0:len(s):3]"
      ],
      "execution_count": 13,
      "outputs": [
        {
          "output_type": "execute_result",
          "data": {
            "application/vnd.google.colaboratory.intrinsic+json": {
              "type": "string"
            },
            "text/plain": [
              "'hlwl'"
            ]
          },
          "metadata": {
            "tags": []
          },
          "execution_count": 13
        }
      ]
    },
    {
      "cell_type": "code",
      "metadata": {
        "id": "KN99miLcOYJg",
        "colab_type": "code",
        "colab": {
          "base_uri": "https://localhost:8080/",
          "height": 35
        },
        "outputId": "449e1cff-3c1d-4cb7-c367-9b354c76c166"
      },
      "source": [
        "s[0:-1:]"
      ],
      "execution_count": 14,
      "outputs": [
        {
          "output_type": "execute_result",
          "data": {
            "application/vnd.google.colaboratory.intrinsic+json": {
              "type": "string"
            },
            "text/plain": [
              "'hello worl'"
            ]
          },
          "metadata": {
            "tags": []
          },
          "execution_count": 14
        }
      ]
    },
    {
      "cell_type": "code",
      "metadata": {
        "id": "7uJMF6p5PqV3",
        "colab_type": "code",
        "colab": {
          "base_uri": "https://localhost:8080/",
          "height": 35
        },
        "outputId": "63e058e1-e22b-4a42-9c4f-c18f0b3583d2"
      },
      "source": [
        "s[3:]"
      ],
      "execution_count": 15,
      "outputs": [
        {
          "output_type": "execute_result",
          "data": {
            "application/vnd.google.colaboratory.intrinsic+json": {
              "type": "string"
            },
            "text/plain": [
              "'lo world'"
            ]
          },
          "metadata": {
            "tags": []
          },
          "execution_count": 15
        }
      ]
    },
    {
      "cell_type": "code",
      "metadata": {
        "id": "zXsmG5rLT_S7",
        "colab_type": "code",
        "colab": {
          "base_uri": "https://localhost:8080/",
          "height": 35
        },
        "outputId": "20051f91-3500-4ed6-aaed-60273dc6913f"
      },
      "source": [
        "s[:8]"
      ],
      "execution_count": 16,
      "outputs": [
        {
          "output_type": "execute_result",
          "data": {
            "application/vnd.google.colaboratory.intrinsic+json": {
              "type": "string"
            },
            "text/plain": [
              "'hello wo'"
            ]
          },
          "metadata": {
            "tags": []
          },
          "execution_count": 16
        }
      ]
    },
    {
      "cell_type": "code",
      "metadata": {
        "id": "TV8fh8NiVLzK",
        "colab_type": "code",
        "colab": {
          "base_uri": "https://localhost:8080/",
          "height": 35
        },
        "outputId": "d8a1a8a2-9057-4785-92ca-e5e1ed08b999"
      },
      "source": [
        "s[:-4]"
      ],
      "execution_count": 17,
      "outputs": [
        {
          "output_type": "execute_result",
          "data": {
            "application/vnd.google.colaboratory.intrinsic+json": {
              "type": "string"
            },
            "text/plain": [
              "'hello w'"
            ]
          },
          "metadata": {
            "tags": []
          },
          "execution_count": 17
        }
      ]
    },
    {
      "cell_type": "markdown",
      "metadata": {
        "id": "7lpPHZXKVsui",
        "colab_type": "text"
      },
      "source": [
        "#Properties"
      ]
    },
    {
      "cell_type": "code",
      "metadata": {
        "id": "w08nbGHpVr6d",
        "colab_type": "code",
        "colab": {
          "base_uri": "https://localhost:8080/",
          "height": 197
        },
        "outputId": "a97c4f44-acb1-4faf-b51d-3a8c77a15012"
      },
      "source": [
        "#immutable\n",
        "h=\"Pratham\"\n",
        "h[0]='x'"
      ],
      "execution_count": 18,
      "outputs": [
        {
          "output_type": "error",
          "ename": "TypeError",
          "evalue": "ignored",
          "traceback": [
            "\u001b[0;31m---------------------------------------------------------------------------\u001b[0m",
            "\u001b[0;31mTypeError\u001b[0m                                 Traceback (most recent call last)",
            "\u001b[0;32m<ipython-input-18-5b616f3847c7>\u001b[0m in \u001b[0;36m<module>\u001b[0;34m()\u001b[0m\n\u001b[1;32m      1\u001b[0m \u001b[0;31m#immutable\u001b[0m\u001b[0;34m\u001b[0m\u001b[0;34m\u001b[0m\u001b[0;34m\u001b[0m\u001b[0m\n\u001b[1;32m      2\u001b[0m \u001b[0mh\u001b[0m\u001b[0;34m=\u001b[0m\u001b[0;34m\"Pratham\"\u001b[0m\u001b[0;34m\u001b[0m\u001b[0;34m\u001b[0m\u001b[0m\n\u001b[0;32m----> 3\u001b[0;31m \u001b[0mh\u001b[0m\u001b[0;34m[\u001b[0m\u001b[0;36m0\u001b[0m\u001b[0;34m]\u001b[0m\u001b[0;34m=\u001b[0m\u001b[0;34m'x'\u001b[0m\u001b[0;34m\u001b[0m\u001b[0;34m\u001b[0m\u001b[0m\n\u001b[0m",
            "\u001b[0;31mTypeError\u001b[0m: 'str' object does not support item assignment"
          ]
        }
      ]
    },
    {
      "cell_type": "code",
      "metadata": {
        "id": "AScbJcLoVXCa",
        "colab_type": "code",
        "colab": {
          "base_uri": "https://localhost:8080/",
          "height": 35
        },
        "outputId": "8479d7b7-6bc2-4334-fc62-7810cf4b806f"
      },
      "source": [
        "i='z'\n",
        "i*10"
      ],
      "execution_count": 19,
      "outputs": [
        {
          "output_type": "execute_result",
          "data": {
            "application/vnd.google.colaboratory.intrinsic+json": {
              "type": "string"
            },
            "text/plain": [
              "'zzzzzzzzzz'"
            ]
          },
          "metadata": {
            "tags": []
          },
          "execution_count": 19
        }
      ]
    },
    {
      "cell_type": "code",
      "metadata": {
        "id": "p1LBKc9DXeDm",
        "colab_type": "code",
        "colab": {
          "base_uri": "https://localhost:8080/",
          "height": 35
        },
        "outputId": "fa136857-7c99-435a-8544-c593dc8b0909"
      },
      "source": [
        "x='hello'\n",
        "x=x+'o'\n",
        "x=x+'o'\n",
        "x=x+'o'\n",
        "x=x+'o'\n",
        "x=x+'o'\n",
        "x=x+'o'\n",
        "x"
      ],
      "execution_count": 20,
      "outputs": [
        {
          "output_type": "execute_result",
          "data": {
            "application/vnd.google.colaboratory.intrinsic+json": {
              "type": "string"
            },
            "text/plain": [
              "'hellooooooo'"
            ]
          },
          "metadata": {
            "tags": []
          },
          "execution_count": 20
        }
      ]
    },
    {
      "cell_type": "code",
      "metadata": {
        "id": "9BRpfnIXZ4-i",
        "colab_type": "code",
        "colab": {
          "base_uri": "https://localhost:8080/",
          "height": 35
        },
        "outputId": "9ff790c2-aa9a-4718-e1ad-d8c344b77565"
      },
      "source": [
        "'2'+'3' #Treated as string"
      ],
      "execution_count": 21,
      "outputs": [
        {
          "output_type": "execute_result",
          "data": {
            "application/vnd.google.colaboratory.intrinsic+json": {
              "type": "string"
            },
            "text/plain": [
              "'23'"
            ]
          },
          "metadata": {
            "tags": []
          },
          "execution_count": 21
        }
      ]
    },
    {
      "cell_type": "code",
      "metadata": {
        "id": "zsYuoe6SH0Xf",
        "colab_type": "code",
        "colab": {
          "base_uri": "https://localhost:8080/",
          "height": 34
        },
        "outputId": "7d50ffc3-6637-438f-a522-b37df3a13901"
      },
      "source": [
        "len(s) #space also count"
      ],
      "execution_count": 22,
      "outputs": [
        {
          "output_type": "execute_result",
          "data": {
            "text/plain": [
              "11"
            ]
          },
          "metadata": {
            "tags": []
          },
          "execution_count": 22
        }
      ]
    },
    {
      "cell_type": "markdown",
      "metadata": {
        "id": "Ukj4k8ffZme4",
        "colab_type": "text"
      },
      "source": [
        "#Methods"
      ]
    },
    {
      "cell_type": "code",
      "metadata": {
        "id": "pQlT4ch0JRuL",
        "colab_type": "code",
        "colab": {
          "base_uri": "https://localhost:8080/",
          "height": 35
        },
        "outputId": "1e13bad8-f13a-4dd9-c0fe-39112e7fb61f"
      },
      "source": [
        "s.capitalize()"
      ],
      "execution_count": 23,
      "outputs": [
        {
          "output_type": "execute_result",
          "data": {
            "application/vnd.google.colaboratory.intrinsic+json": {
              "type": "string"
            },
            "text/plain": [
              "'Hello world'"
            ]
          },
          "metadata": {
            "tags": []
          },
          "execution_count": 23
        }
      ]
    },
    {
      "cell_type": "code",
      "metadata": {
        "id": "U_YkDNCFZo-b",
        "colab_type": "code",
        "colab": {
          "base_uri": "https://localhost:8080/",
          "height": 35
        },
        "outputId": "7baf507f-fa4c-4fb3-82e4-9fd70542360b"
      },
      "source": [
        "s.upper()"
      ],
      "execution_count": 24,
      "outputs": [
        {
          "output_type": "execute_result",
          "data": {
            "application/vnd.google.colaboratory.intrinsic+json": {
              "type": "string"
            },
            "text/plain": [
              "'HELLO WORLD'"
            ]
          },
          "metadata": {
            "tags": []
          },
          "execution_count": 24
        }
      ]
    },
    {
      "cell_type": "code",
      "metadata": {
        "id": "Zivt6DoFZsr2",
        "colab_type": "code",
        "colab": {
          "base_uri": "https://localhost:8080/",
          "height": 34
        },
        "outputId": "e8746dc5-3ab9-4fd2-eef8-2c94837fe731"
      },
      "source": [
        "s.split()"
      ],
      "execution_count": 25,
      "outputs": [
        {
          "output_type": "execute_result",
          "data": {
            "text/plain": [
              "['hello', 'world']"
            ]
          },
          "metadata": {
            "tags": []
          },
          "execution_count": 25
        }
      ]
    },
    {
      "cell_type": "code",
      "metadata": {
        "id": "fKhC1XSbZusi",
        "colab_type": "code",
        "colab": {
          "base_uri": "https://localhost:8080/",
          "height": 34
        },
        "outputId": "dcf7572f-137f-4928-aab2-44d9454f74cd"
      },
      "source": [
        "s.split(\"o\")"
      ],
      "execution_count": 27,
      "outputs": [
        {
          "output_type": "execute_result",
          "data": {
            "text/plain": [
              "['hell', ' w', 'rld']"
            ]
          },
          "metadata": {
            "tags": []
          },
          "execution_count": 27
        }
      ]
    },
    {
      "cell_type": "markdown",
      "metadata": {
        "id": "Zb5DPFfTbNI_",
        "colab_type": "text"
      },
      "source": [
        "#Print formatting with strings"
      ]
    },
    {
      "cell_type": "markdown",
      "metadata": {
        "id": "Vql-HDO6dQQ3",
        "colab_type": "text"
      },
      "source": [
        "String formaating allow us to inject a string or variable into your string for printing rather than trying to chain item together using commas or string concatenation."
      ]
    },
    {
      "cell_type": "markdown",
      "metadata": {
        "id": "ixGsyL3gcIs-",
        "colab_type": "text"
      },
      "source": [
        "**String** **concatenation**"
      ]
    },
    {
      "cell_type": "code",
      "metadata": {
        "id": "J_2orKeqbLSi",
        "colab_type": "code",
        "colab": {
          "base_uri": "https://localhost:8080/",
          "height": 35
        },
        "outputId": "55e2c73d-6353-4f11-a1f9-14279a223714"
      },
      "source": [
        "name=\"Thomas\"\n",
        "points='23'\n",
        "\"last night, \"+name+' scored '+points+' points'"
      ],
      "execution_count": 36,
      "outputs": [
        {
          "output_type": "execute_result",
          "data": {
            "application/vnd.google.colaboratory.intrinsic+json": {
              "type": "string"
            },
            "text/plain": [
              "'last night, Thomas scored 23 points'"
            ]
          },
          "metadata": {
            "tags": []
          },
          "execution_count": 36
        }
      ]
    },
    {
      "cell_type": "markdown",
      "metadata": {
        "id": "O9hQulE2c8Mt",
        "colab_type": "text"
      },
      "source": [
        "**This is String formatting**"
      ]
    },
    {
      "cell_type": "code",
      "metadata": {
        "id": "HXA93CQUbirC",
        "colab_type": "code",
        "colab": {
          "base_uri": "https://localhost:8080/",
          "height": 34
        },
        "outputId": "6e3f6213-de24-48cb-ad7d-a18c92d5307e"
      },
      "source": [
        "name=\"Thomas\"\n",
        "points=23\n",
        "print(f'last night, {name} scored {points} points.')"
      ],
      "execution_count": 48,
      "outputs": [
        {
          "output_type": "stream",
          "text": [
            "last night, Thomas scored 23 points.\n"
          ],
          "name": "stdout"
        }
      ]
    },
    {
      "cell_type": "markdown",
      "metadata": {
        "id": "z4H-2pUwdJPK",
        "colab_type": "text"
      },
      "source": [
        "**Ways** **to** **format** **string**"
      ]
    },
    {
      "cell_type": "markdown",
      "metadata": {
        "id": "mDUgs68bgzcO",
        "colab_type": "text"
      },
      "source": [
        "1. **Using** **%** **character**"
      ]
    },
    {
      "cell_type": "code",
      "metadata": {
        "id": "KxkVT9WocmJs",
        "colab_type": "code",
        "colab": {
          "base_uri": "https://localhost:8080/",
          "height": 34
        },
        "outputId": "4d68c909-3fd8-4f30-e15e-8b61d742ffa8"
      },
      "source": [
        "x=\"World\"\n",
        "print('hello %s' %x)"
      ],
      "execution_count": 41,
      "outputs": [
        {
          "output_type": "stream",
          "text": [
            "hello World\n"
          ],
          "name": "stdout"
        }
      ]
    },
    {
      "cell_type": "code",
      "metadata": {
        "id": "CvElIBYejkjQ",
        "colab_type": "code",
        "colab": {
          "base_uri": "https://localhost:8080/",
          "height": 34
        },
        "outputId": "0d37c8f0-650b-4d9c-e4b2-4935aea7050d"
      },
      "source": [
        "x=\"World\"\n",
        "y=\"to all\"\n",
        "print('hello %s %s' %(x,y))"
      ],
      "execution_count": 53,
      "outputs": [
        {
          "output_type": "stream",
          "text": [
            "hello World to all\n"
          ],
          "name": "stdout"
        }
      ]
    },
    {
      "cell_type": "code",
      "metadata": {
        "id": "ysIX-N3mhYBc",
        "colab_type": "code",
        "colab": {
          "base_uri": "https://localhost:8080/",
          "height": 34
        },
        "outputId": "8907f198-cbe2-4e90-b072-8d6dcc82586e"
      },
      "source": [
        "x=\"World\"\n",
        "y=\"to all\"\n",
        "print(('hello %s %s' %(x,y)).upper())"
      ],
      "execution_count": 51,
      "outputs": [
        {
          "output_type": "stream",
          "text": [
            "HELLO WORLD TO ALL\n"
          ],
          "name": "stdout"
        }
      ]
    },
    {
      "cell_type": "code",
      "metadata": {
        "id": "8QXYBKVIh2D1",
        "colab_type": "code",
        "colab": {
          "base_uri": "https://localhost:8080/",
          "height": 34
        },
        "outputId": "b8216706-a6cf-40c8-fc01-895a85d7b61b"
      },
      "source": [
        "x=\"World\"\n",
        "y=\"to all\"\n",
        "print(('hello %s %s' %(x,y)).split())"
      ],
      "execution_count": 52,
      "outputs": [
        {
          "output_type": "stream",
          "text": [
            "['hello', 'World', 'to', 'all']\n"
          ],
          "name": "stdout"
        }
      ]
    },
    {
      "cell_type": "markdown",
      "metadata": {
        "id": "4wcNuHMGkzCz",
        "colab_type": "text"
      },
      "source": [
        "**Note: Use of %r will convert any python object to a string**"
      ]
    },
    {
      "cell_type": "code",
      "metadata": {
        "id": "T9kTuk4Rkxzm",
        "colab_type": "code",
        "colab": {
          "base_uri": "https://localhost:8080/",
          "height": 34
        },
        "outputId": "3553d9a3-453a-4501-8733-b7c80aefe537"
      },
      "source": [
        "x=\"World\"\n",
        "print('hello %r' %x)"
      ],
      "execution_count": 54,
      "outputs": [
        {
          "output_type": "stream",
          "text": [
            "hello 'World'\n"
          ],
          "name": "stdout"
        }
      ]
    },
    {
      "cell_type": "markdown",
      "metadata": {
        "id": "3t-GvQ0Gl1vl",
        "colab_type": "text"
      },
      "source": [
        "***%d is use for interger and %f for floatint point value**"
      ]
    },
    {
      "cell_type": "code",
      "metadata": {
        "id": "xgLo8ZshiduM",
        "colab_type": "code",
        "colab": {
          "base_uri": "https://localhost:8080/",
          "height": 34
        },
        "outputId": "6342f495-a156-4629-c9d3-787b4165f195"
      },
      "source": [
        "x=10.234\n",
        "print('value:%d' %x)"
      ],
      "execution_count": 55,
      "outputs": [
        {
          "output_type": "stream",
          "text": [
            "value:10\n"
          ],
          "name": "stdout"
        }
      ]
    },
    {
      "cell_type": "code",
      "metadata": {
        "id": "w1n0LoqSmURX",
        "colab_type": "code",
        "colab": {
          "base_uri": "https://localhost:8080/",
          "height": 34
        },
        "outputId": "309395fd-1426-4786-b1e0-d25f236697f1"
      },
      "source": [
        "x=10.234\n",
        "print('value:%f' %x)"
      ],
      "execution_count": 62,
      "outputs": [
        {
          "output_type": "stream",
          "text": [
            "value:10.234000\n"
          ],
          "name": "stdout"
        }
      ]
    },
    {
      "cell_type": "code",
      "metadata": {
        "id": "lwljv6XGmYtB",
        "colab_type": "code",
        "colab": {
          "base_uri": "https://localhost:8080/",
          "height": 34
        },
        "outputId": "e54b84ca-8b9a-4f5b-fbe9-64c334ca5f04"
      },
      "source": [
        "x=10.234            #string\n",
        "print('value:%s'%x)"
      ],
      "execution_count": 63,
      "outputs": [
        {
          "output_type": "stream",
          "text": [
            "value:10.234\n"
          ],
          "name": "stdout"
        }
      ]
    },
    {
      "cell_type": "markdown",
      "metadata": {
        "id": "M6W76kXHoY4f",
        "colab_type": "text"
      },
      "source": [
        "2. **Using .format() method:**"
      ]
    },
    {
      "cell_type": "code",
      "metadata": {
        "id": "PxgOvtsWmamG",
        "colab_type": "code",
        "colab": {
          "base_uri": "https://localhost:8080/",
          "height": 34
        },
        "outputId": "8634f685-abf9-483c-92ee-01336e3dbb36"
      },
      "source": [
        "x='Poorvi'\n",
        "print('Hey {}'.format(x))"
      ],
      "execution_count": 67,
      "outputs": [
        {
          "output_type": "stream",
          "text": [
            "Hey Poorvi\n"
          ],
          "name": "stdout"
        }
      ]
    },
    {
      "cell_type": "code",
      "metadata": {
        "id": "5ttLk-H-pEwF",
        "colab_type": "code",
        "colab": {
          "base_uri": "https://localhost:8080/",
          "height": 34
        },
        "outputId": "ec9a9ca0-abaf-4b80-e629-78736ab85576"
      },
      "source": [
        "x='Poorvi'\n",
        "y='Pratham'\n",
        "print('Hey {} say hello to {}'.format(x,y))"
      ],
      "execution_count": 68,
      "outputs": [
        {
          "output_type": "stream",
          "text": [
            "Hey Poorvi say hello to Pratham\n"
          ],
          "name": "stdout"
        }
      ]
    },
    {
      "cell_type": "code",
      "metadata": {
        "id": "_S7pGFKQtP35",
        "colab_type": "code",
        "colab": {
          "base_uri": "https://localhost:8080/",
          "height": 34
        },
        "outputId": "f8d11a56-ce24-441c-f819-3ec65d3ce4f6"
      },
      "source": [
        "#we can also call object by index position\n",
        "x='Poorvi'\n",
        "y='Pratham'\n",
        "print('Hey {1} say hello to {0}'.format(x,y))"
      ],
      "execution_count": 70,
      "outputs": [
        {
          "output_type": "stream",
          "text": [
            "Hey Pratham say hello to Poorvi\n"
          ],
          "name": "stdout"
        }
      ]
    },
    {
      "cell_type": "code",
      "metadata": {
        "id": "fSZe4LgMtdoH",
        "colab_type": "code",
        "colab": {
          "base_uri": "https://localhost:8080/",
          "height": 34
        },
        "outputId": "aa9a67e6-c2cf-4cba-fe77-ff1adaa19fbc"
      },
      "source": [
        "#Assigned value\n",
        "print('Hey {x} say hello to {y}'.format(x='poorvi',y='pratham'))"
      ],
      "execution_count": 72,
      "outputs": [
        {
          "output_type": "stream",
          "text": [
            "Hey poorvi say hello to pratham\n"
          ],
          "name": "stdout"
        }
      ]
    },
    {
      "cell_type": "code",
      "metadata": {
        "id": "Uco1UVmzuCAD",
        "colab_type": "code",
        "colab": {
          "base_uri": "https://localhost:8080/",
          "height": 197
        },
        "outputId": "098e76ba-b74e-4537-8bb4-c3a9995cd8d5"
      },
      "source": [
        "x='Poorvi'\n",
        "print('Hey {x} say hello to {x}'.format(x))"
      ],
      "execution_count": 74,
      "outputs": [
        {
          "output_type": "error",
          "ename": "KeyError",
          "evalue": "ignored",
          "traceback": [
            "\u001b[0;31m---------------------------------------------------------------------------\u001b[0m",
            "\u001b[0;31mKeyError\u001b[0m                                  Traceback (most recent call last)",
            "\u001b[0;32m<ipython-input-74-5a9651c6f3c0>\u001b[0m in \u001b[0;36m<module>\u001b[0;34m()\u001b[0m\n\u001b[1;32m      1\u001b[0m \u001b[0;31m#reuse\u001b[0m\u001b[0;34m\u001b[0m\u001b[0;34m\u001b[0m\u001b[0;34m\u001b[0m\u001b[0m\n\u001b[1;32m      2\u001b[0m \u001b[0mx\u001b[0m\u001b[0;34m=\u001b[0m\u001b[0;34m'Poorvi'\u001b[0m\u001b[0;34m\u001b[0m\u001b[0;34m\u001b[0m\u001b[0m\n\u001b[0;32m----> 3\u001b[0;31m \u001b[0mprint\u001b[0m\u001b[0;34m(\u001b[0m\u001b[0;34m'Hey {x} say hello to {x}'\u001b[0m\u001b[0;34m.\u001b[0m\u001b[0mformat\u001b[0m\u001b[0;34m(\u001b[0m\u001b[0mx\u001b[0m\u001b[0;34m)\u001b[0m\u001b[0;34m)\u001b[0m\u001b[0;34m\u001b[0m\u001b[0;34m\u001b[0m\u001b[0m\n\u001b[0m",
            "\u001b[0;31mKeyError\u001b[0m: 'x'"
          ]
        }
      ]
    },
    {
      "cell_type": "code",
      "metadata": {
        "id": "5itviK4_3Uz_",
        "colab_type": "code",
        "colab": {
          "base_uri": "https://localhost:8080/",
          "height": 34
        },
        "outputId": "75df9d14-e448-4fc2-c6c2-2b53066360e9"
      },
      "source": [
        "#reuse \n",
        "print('Hey {x} say hello to {x}'.format(x='Poorvi'))"
      ],
      "execution_count": 75,
      "outputs": [
        {
          "output_type": "stream",
          "text": [
            "Hey Poorvi say hello to Poorvi\n"
          ],
          "name": "stdout"
        }
      ]
    },
    {
      "cell_type": "code",
      "metadata": {
        "id": "zpDbyokd3p0O",
        "colab_type": "code",
        "colab": {
          "base_uri": "https://localhost:8080/",
          "height": 343
        },
        "outputId": "77bc88f4-0626-4183-f183-cefe15c32ee9"
      },
      "source": [
        "x='pratham'\n",
        "print('Hey {} say hello to {}'.format(x))"
      ],
      "execution_count": 78,
      "outputs": [
        {
          "output_type": "error",
          "ename": "IndexError",
          "evalue": "ignored",
          "traceback": [
            "\u001b[0;31m---------------------------------------------------------------------------\u001b[0m",
            "\u001b[0;31mIndexError\u001b[0m                                Traceback (most recent call last)",
            "\u001b[0;32m<ipython-input-78-3132146747fc>\u001b[0m in \u001b[0;36m<module>\u001b[0;34m()\u001b[0m\n\u001b[1;32m      1\u001b[0m \u001b[0mx\u001b[0m\u001b[0;34m=\u001b[0m\u001b[0;34m'pratham'\u001b[0m\u001b[0;34m\u001b[0m\u001b[0;34m\u001b[0m\u001b[0m\n\u001b[0;32m----> 2\u001b[0;31m \u001b[0mprint\u001b[0m\u001b[0;34m(\u001b[0m\u001b[0;34m'Hey {} say hello to {}'\u001b[0m\u001b[0;34m.\u001b[0m\u001b[0mformat\u001b[0m\u001b[0;34m(\u001b[0m\u001b[0mx\u001b[0m\u001b[0;34m)\u001b[0m\u001b[0;34m)\u001b[0m\u001b[0;34m\u001b[0m\u001b[0;34m\u001b[0m\u001b[0m\n\u001b[0m",
            "\u001b[0;31mIndexError\u001b[0m: tuple index out of range"
          ]
        },
        {
          "output_type": "error",
          "ename": "IndexError",
          "evalue": "ignored",
          "traceback": [
            "\u001b[0;31m---------------------------------------------------------------------------\u001b[0m",
            "\u001b[0;31mIndexError\u001b[0m                                Traceback (most recent call last)",
            "\u001b[0;32m<ipython-input-79-3132146747fc>\u001b[0m in \u001b[0;36m<module>\u001b[0;34m()\u001b[0m\n\u001b[1;32m      1\u001b[0m \u001b[0mx\u001b[0m\u001b[0;34m=\u001b[0m\u001b[0;34m'pratham'\u001b[0m\u001b[0;34m\u001b[0m\u001b[0;34m\u001b[0m\u001b[0m\n\u001b[0;32m----> 2\u001b[0;31m \u001b[0mprint\u001b[0m\u001b[0;34m(\u001b[0m\u001b[0;34m'Hey {} say hello to {}'\u001b[0m\u001b[0;34m.\u001b[0m\u001b[0mformat\u001b[0m\u001b[0;34m(\u001b[0m\u001b[0mx\u001b[0m\u001b[0;34m)\u001b[0m\u001b[0;34m)\u001b[0m\u001b[0;34m\u001b[0m\u001b[0;34m\u001b[0m\u001b[0m\n\u001b[0m",
            "\u001b[0;31mIndexError\u001b[0m: tuple index out of range"
          ]
        }
      ]
    },
    {
      "cell_type": "code",
      "metadata": {
        "id": "H6qgWw983-xK",
        "colab_type": "code",
        "colab": {
          "base_uri": "https://localhost:8080/",
          "height": 34
        },
        "outputId": "d3bab142-d59d-41ea-851d-8b46c133f325"
      },
      "source": [
        "x='pratham'\n",
        "print('Hey {} say hello to {}'.format(x,x))"
      ],
      "execution_count": 80,
      "outputs": [
        {
          "output_type": "stream",
          "text": [
            "Hey pratham say hello to pratham\n"
          ],
          "name": "stdout"
        }
      ]
    },
    {
      "cell_type": "markdown",
      "metadata": {
        "id": "8wR_oswl5SwX",
        "colab_type": "text"
      },
      "source": [
        "***Alignment, padding & precision with .format():**"
      ]
    },
    {
      "cell_type": "code",
      "metadata": {
        "id": "mWOw8j984Isp",
        "colab_type": "code",
        "colab": {
          "base_uri": "https://localhost:8080/",
          "height": 34
        },
        "outputId": "66fc2c04-793c-4ee4-d617-d26409db7c22"
      },
      "source": [
        "print('{0:9}|{1:8}' .format('Apples',3.0))\n",
        "#{0:9} this means 0 index and 9 padding"
      ],
      "execution_count": 7,
      "outputs": [
        {
          "output_type": "stream",
          "text": [
            "Apples   |     3.0\n"
          ],
          "name": "stdout"
        }
      ]
    },
    {
      "cell_type": "markdown",
      "metadata": {
        "id": "1UPOadBBglBT",
        "colab_type": "text"
      },
      "source": [
        "Bydefault .format()  align text to the left ,number to the right\n"
      ]
    },
    {
      "cell_type": "code",
      "metadata": {
        "id": "LjEF9XSGgGS4",
        "colab_type": "code",
        "colab": {
          "base_uri": "https://localhost:8080/",
          "height": 34
        },
        "outputId": "223adff5-f3c9-4e90-9628-7ff5eb20c83b"
      },
      "source": [
        "print('{0}|{1}'.format(5,'Mango'))"
      ],
      "execution_count": 9,
      "outputs": [
        {
          "output_type": "stream",
          "text": [
            "5|Mango\n"
          ],
          "name": "stdout"
        }
      ]
    },
    {
      "cell_type": "markdown",
      "metadata": {
        "id": "ZEbGYM9Lh1vV",
        "colab_type": "text"
      },
      "source": [
        "We can pass an optional '<', '^', or '>'to set left, center and right alignment."
      ]
    },
    {
      "cell_type": "code",
      "metadata": {
        "id": "ZUfhhfJVhLTi",
        "colab_type": "code",
        "colab": {
          "base_uri": "https://localhost:8080/",
          "height": 34
        },
        "outputId": "494868e9-12b6-44b5-a1b2-1905415af6f9"
      },
      "source": [
        "print('{:<8}|{:^8}|{:>8}'.format('mango',8,'piece'))"
      ],
      "execution_count": 10,
      "outputs": [
        {
          "output_type": "stream",
          "text": [
            "mango   |   8    |   piece\n"
          ],
          "name": "stdout"
        }
      ]
    },
    {
      "cell_type": "code",
      "metadata": {
        "id": "FhuA03wYjKUP",
        "colab_type": "code",
        "colab": {
          "base_uri": "https://localhost:8080/",
          "height": 163
        },
        "outputId": "fcd3dd0e-5271-4689-a686-ed91ccd1b898"
      },
      "source": [
        "print('{1:<8}|{0:^8}|{:>8}'.format('mango',8,'piece'))"
      ],
      "execution_count": 15,
      "outputs": [
        {
          "output_type": "error",
          "ename": "ValueError",
          "evalue": "ignored",
          "traceback": [
            "\u001b[0;31m---------------------------------------------------------------------------\u001b[0m",
            "\u001b[0;31mValueError\u001b[0m                                Traceback (most recent call last)",
            "\u001b[0;32m<ipython-input-15-396c62b65ed1>\u001b[0m in \u001b[0;36m<module>\u001b[0;34m()\u001b[0m\n\u001b[0;32m----> 1\u001b[0;31m \u001b[0mprint\u001b[0m\u001b[0;34m(\u001b[0m\u001b[0;34m'{1:<8}|{0:^8}|{:>8}'\u001b[0m\u001b[0;34m.\u001b[0m\u001b[0mformat\u001b[0m\u001b[0;34m(\u001b[0m\u001b[0;34m'mango'\u001b[0m\u001b[0;34m,\u001b[0m\u001b[0;36m8\u001b[0m\u001b[0;34m,\u001b[0m\u001b[0;34m'piece'\u001b[0m\u001b[0;34m)\u001b[0m\u001b[0;34m)\u001b[0m\u001b[0;34m\u001b[0m\u001b[0;34m\u001b[0m\u001b[0m\n\u001b[0m",
            "\u001b[0;31mValueError\u001b[0m: cannot switch from manual field specification to automatic field numbering"
          ]
        }
      ]
    },
    {
      "cell_type": "code",
      "metadata": {
        "id": "Twa3uCMajhfk",
        "colab_type": "code",
        "colab": {
          "base_uri": "https://localhost:8080/",
          "height": 34
        },
        "outputId": "5a660a32-2ac1-413c-936d-22b05e449397"
      },
      "source": [
        "print('{:^8}|{:^8}|{:^8}'.format('mango',8,'piece'))"
      ],
      "execution_count": 16,
      "outputs": [
        {
          "output_type": "stream",
          "text": [
            " mango  |   8    | piece  \n"
          ],
          "name": "stdout"
        }
      ]
    },
    {
      "cell_type": "code",
      "metadata": {
        "id": "jnMukx3QkYTb",
        "colab_type": "code",
        "colab": {
          "base_uri": "https://localhost:8080/",
          "height": 163
        },
        "outputId": "7493f3d8-db39-440f-c1ea-ed011ff34694"
      },
      "source": [
        "print('{:-8}|{:-8}|{:-8}'.format('mango',8,'piece'))"
      ],
      "execution_count": 17,
      "outputs": [
        {
          "output_type": "error",
          "ename": "ValueError",
          "evalue": "ignored",
          "traceback": [
            "\u001b[0;31m---------------------------------------------------------------------------\u001b[0m",
            "\u001b[0;31mValueError\u001b[0m                                Traceback (most recent call last)",
            "\u001b[0;32m<ipython-input-17-bcd171e0421f>\u001b[0m in \u001b[0;36m<module>\u001b[0;34m()\u001b[0m\n\u001b[0;32m----> 1\u001b[0;31m \u001b[0mprint\u001b[0m\u001b[0;34m(\u001b[0m\u001b[0;34m'{:-8}|{:-8}|{:-8}'\u001b[0m\u001b[0;34m.\u001b[0m\u001b[0mformat\u001b[0m\u001b[0;34m(\u001b[0m\u001b[0;34m'mango'\u001b[0m\u001b[0;34m,\u001b[0m\u001b[0;36m8\u001b[0m\u001b[0;34m,\u001b[0m\u001b[0;34m'piece'\u001b[0m\u001b[0;34m)\u001b[0m\u001b[0;34m)\u001b[0m\u001b[0;34m\u001b[0m\u001b[0;34m\u001b[0m\u001b[0m\n\u001b[0m",
            "\u001b[0;31mValueError\u001b[0m: Sign not allowed in string format specifier"
          ]
        }
      ]
    },
    {
      "cell_type": "code",
      "metadata": {
        "id": "9FleFOv0kimB",
        "colab_type": "code",
        "colab": {
          "base_uri": "https://localhost:8080/",
          "height": 34
        },
        "outputId": "2dd3d902-d7fb-4ce6-de2e-49ef0204d02b"
      },
      "source": [
        "print('{:-<8}|{:-^8}|{:->8}'.format('left','center','right'))"
      ],
      "execution_count": 18,
      "outputs": [
        {
          "output_type": "stream",
          "text": [
            "left----|-center-|---right\n"
          ],
          "name": "stdout"
        }
      ]
    },
    {
      "cell_type": "code",
      "metadata": {
        "id": "f5pYhSW6ktOy",
        "colab_type": "code",
        "colab": {
          "base_uri": "https://localhost:8080/",
          "height": 34
        },
        "outputId": "2524450d-35bc-444d-fc8a-fa0911938e35"
      },
      "source": [
        "print('{0:-<8}|{2:=^15}|{1:->4}'.format('left','center','right'))"
      ],
      "execution_count": 22,
      "outputs": [
        {
          "output_type": "stream",
          "text": [
            "left----|=====right=====|center\n"
          ],
          "name": "stdout"
        }
      ]
    },
    {
      "cell_type": "markdown",
      "metadata": {
        "id": "VexjOLUWpf1e",
        "colab_type": "text"
      },
      "source": [
        "3. **Format with string literals:**"
      ]
    },
    {
      "cell_type": "code",
      "metadata": {
        "id": "ZmAU4GRfk0KD",
        "colab_type": "code",
        "colab": {
          "base_uri": "https://localhost:8080/",
          "height": 34
        },
        "outputId": "556692d8-fd4b-46d3-9d31-9c05f543f3cb"
      },
      "source": [
        "n=\"Pratham\"\n",
        "print(f'My name is {n}')"
      ],
      "execution_count": 23,
      "outputs": [
        {
          "output_type": "stream",
          "text": [
            "My name is Pratham\n"
          ],
          "name": "stdout"
        }
      ]
    },
    {
      "cell_type": "code",
      "metadata": {
        "id": "v4IgwkWdp6jF",
        "colab_type": "code",
        "colab": {
          "base_uri": "https://localhost:8080/",
          "height": 34
        },
        "outputId": "95b70379-8a9c-44e1-f7d7-7a2f5043c1a3"
      },
      "source": [
        "num =10.234\n",
        "print(f'The num value is:{num:{5}.{3}}')"
      ],
      "execution_count": 35,
      "outputs": [
        {
          "output_type": "stream",
          "text": [
            "The num value is: 10.2\n"
          ],
          "name": "stdout"
        }
      ]
    }
  ]
}