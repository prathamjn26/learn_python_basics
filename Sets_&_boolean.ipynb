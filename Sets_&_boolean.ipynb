{
  "nbformat": 4,
  "nbformat_minor": 0,
  "metadata": {
    "colab": {
      "name": "Sets & boolean.ipynb",
      "provenance": [],
      "authorship_tag": "ABX9TyNbu6Gc+Ilgc5nRbargKQqU"
    },
    "kernelspec": {
      "name": "python3",
      "display_name": "Python 3"
    }
  },
  "cells": [
    {
      "cell_type": "markdown",
      "metadata": {
        "id": "yJf75Vn7-KKw",
        "colab_type": "text"
      },
      "source": [
        "#**Sets:**"
      ]
    },
    {
      "cell_type": "markdown",
      "metadata": {
        "id": "qFrmx4tn-PAY",
        "colab_type": "text"
      },
      "source": [
        "Sets are unordered collection of unique elements."
      ]
    },
    {
      "cell_type": "markdown",
      "metadata": {
        "id": "D_lM_EPO-aMe",
        "colab_type": "text"
      },
      "source": [
        "We can construct set using set() function."
      ]
    },
    {
      "cell_type": "code",
      "metadata": {
        "id": "RBZ__h8u-OCD",
        "colab_type": "code",
        "colab": {
          "base_uri": "https://localhost:8080/",
          "height": 34
        },
        "outputId": "0f793eb4-47c6-41a6-914c-9d3ac56e3e1c"
      },
      "source": [
        "x=set()         #At a time one element only\n",
        "x.add(1)\n",
        "x.add(2)\n",
        "x.add(3)\n",
        "x"
      ],
      "execution_count": 4,
      "outputs": [
        {
          "output_type": "execute_result",
          "data": {
            "text/plain": [
              "{1, 2, 3}"
            ]
          },
          "metadata": {
            "tags": []
          },
          "execution_count": 4
        }
      ]
    },
    {
      "cell_type": "markdown",
      "metadata": {
        "id": "9vOuR9Kc-6cx",
        "colab_type": "text"
      },
      "source": [
        "It will show unique elements only."
      ]
    },
    {
      "cell_type": "code",
      "metadata": {
        "id": "_lb-4OBL-ipA",
        "colab_type": "code",
        "colab": {
          "base_uri": "https://localhost:8080/",
          "height": 34
        },
        "outputId": "27d7d8e5-7a01-4715-d2f4-230bc119e76b"
      },
      "source": [
        "list=[1,1,1,2,3,4,5,6,6,6,6,6,6,7,8,9,0,0,0,'a','b','ab']\n",
        "set(list)"
      ],
      "execution_count": 6,
      "outputs": [
        {
          "output_type": "execute_result",
          "data": {
            "text/plain": [
              "{0, 1, 2, 3, 4, 5, 6, 7, 8, 9, 'a', 'ab', 'b'}"
            ]
          },
          "metadata": {
            "tags": []
          },
          "execution_count": 6
        }
      ]
    },
    {
      "cell_type": "markdown",
      "metadata": {
        "id": "16IvnODr_bSy",
        "colab_type": "text"
      },
      "source": [
        "#**Booleans:**"
      ]
    },
    {
      "cell_type": "markdown",
      "metadata": {
        "id": "p9Or_11b_oBh",
        "colab_type": "text"
      },
      "source": [
        "Boolean are operator that allow you to convey True or False statements."
      ]
    },
    {
      "cell_type": "code",
      "metadata": {
        "id": "5fVZ8pUD_PVq",
        "colab_type": "code",
        "colab": {
          "base_uri": "https://localhost:8080/",
          "height": 34
        },
        "outputId": "977a2a24-42d7-4329-9351-76594e4c23c2"
      },
      "source": [
        "a=True\n",
        "a"
      ],
      "execution_count": 7,
      "outputs": [
        {
          "output_type": "execute_result",
          "data": {
            "text/plain": [
              "True"
            ]
          },
          "metadata": {
            "tags": []
          },
          "execution_count": 7
        }
      ]
    },
    {
      "cell_type": "code",
      "metadata": {
        "id": "VFroLt0c_4HZ",
        "colab_type": "code",
        "colab": {
          "base_uri": "https://localhost:8080/",
          "height": 163
        },
        "outputId": "d36ee158-c360-4a5a-c7ff-00e72e1c8f7a"
      },
      "source": [
        "a=true       #t is small"
      ],
      "execution_count": 9,
      "outputs": [
        {
          "output_type": "error",
          "ename": "NameError",
          "evalue": "ignored",
          "traceback": [
            "\u001b[0;31m---------------------------------------------------------------------------\u001b[0m",
            "\u001b[0;31mNameError\u001b[0m                                 Traceback (most recent call last)",
            "\u001b[0;32m<ipython-input-9-af10752a3fc5>\u001b[0m in \u001b[0;36m<module>\u001b[0;34m()\u001b[0m\n\u001b[0;32m----> 1\u001b[0;31m \u001b[0ma\u001b[0m\u001b[0;34m=\u001b[0m\u001b[0mtrue\u001b[0m       \u001b[0;31m#t is small\u001b[0m\u001b[0;34m\u001b[0m\u001b[0;34m\u001b[0m\u001b[0m\n\u001b[0m",
            "\u001b[0;31mNameError\u001b[0m: name 'true' is not defined"
          ]
        }
      ]
    },
    {
      "cell_type": "code",
      "metadata": {
        "id": "zheSsBNg_6Fi",
        "colab_type": "code",
        "colab": {
          "base_uri": "https://localhost:8080/",
          "height": 34
        },
        "outputId": "79dcca01-141b-4796-842d-8245c3310929"
      },
      "source": [
        "1>2"
      ],
      "execution_count": 10,
      "outputs": [
        {
          "output_type": "execute_result",
          "data": {
            "text/plain": [
              "False"
            ]
          },
          "metadata": {
            "tags": []
          },
          "execution_count": 10
        }
      ]
    },
    {
      "cell_type": "markdown",
      "metadata": {
        "id": "hnNHuKw-AIex",
        "colab_type": "text"
      },
      "source": [
        "If we dont want to assign value to object then use None placeholder."
      ]
    },
    {
      "cell_type": "code",
      "metadata": {
        "id": "-yILTt7oAG2m",
        "colab_type": "code",
        "colab": {
          "base_uri": "https://localhost:8080/",
          "height": 34
        },
        "outputId": "0493a3db-33f7-4c66-9e30-60a4bd16d971"
      },
      "source": [
        "a=None\n",
        "print(a)"
      ],
      "execution_count": 12,
      "outputs": [
        {
          "output_type": "stream",
          "text": [
            "None\n"
          ],
          "name": "stdout"
        }
      ]
    }
  ]
}