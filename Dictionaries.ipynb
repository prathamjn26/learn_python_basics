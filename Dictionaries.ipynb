{
  "nbformat": 4,
  "nbformat_minor": 0,
  "metadata": {
    "colab": {
      "name": "Dictionaries.ipynb",
      "provenance": [],
      "authorship_tag": "ABX9TyMMHPg1nsaeFQTGctH+fJ1n",
      "include_colab_link": true
    },
    "kernelspec": {
      "name": "python3",
      "display_name": "Python 3"
    }
  },
  "cells": [
    {
      "cell_type": "markdown",
      "metadata": {
        "id": "view-in-github",
        "colab_type": "text"
      },
      "source": [
        "<a href=\"https://colab.research.google.com/github/prathamjn26/learn_python_basics/blob/master/Dictionaries.ipynb\" target=\"_parent\"><img src=\"https://colab.research.google.com/assets/colab-badge.svg\" alt=\"Open In Colab\"/></a>"
      ]
    },
    {
      "cell_type": "markdown",
      "metadata": {
        "id": "GAGPy_sJAtbH",
        "colab_type": "text"
      },
      "source": [
        "#Dictionaries\n"
      ]
    },
    {
      "cell_type": "markdown",
      "metadata": {
        "id": "O_LKXKjgA09W",
        "colab_type": "text"
      },
      "source": [
        "Dictionaries are unordered mapping for storing objects.\n",
        "Dictionaries use key-value pairs to store data."
      ]
    },
    {
      "cell_type": "markdown",
      "metadata": {
        "id": "ky82um6nBf7M",
        "colab_type": "text"
      },
      "source": [
        "Key-value pair allows users to grab object without knowing its poistion."
      ]
    },
    {
      "cell_type": "markdown",
      "metadata": {
        "id": "MrsRZVq0BqTr",
        "colab_type": "text"
      },
      "source": [
        "Dictionaries use curely brackets & colons to signify the keys & their associated values.\n",
        "\n",
        "{'key1':'values','key2':'value2'}"
      ]
    },
    {
      "cell_type": "code",
      "metadata": {
        "id": "cgoikBsnA0cL",
        "colab_type": "code",
        "colab": {
          "base_uri": "https://localhost:8080/",
          "height": 34
        },
        "outputId": "88e46111-1c09-4b0b-93c0-732d065cefd4"
      },
      "source": [
        "d={\"k1\":\"1\",\"k2\":\"2\",\"k3\":\"3\"}\n",
        "d"
      ],
      "execution_count": 2,
      "outputs": [
        {
          "output_type": "execute_result",
          "data": {
            "text/plain": [
              "{'k1': '1', 'k2': '2', 'k3': '3'}"
            ]
          },
          "metadata": {
            "tags": []
          },
          "execution_count": 2
        }
      ]
    },
    {
      "cell_type": "code",
      "metadata": {
        "id": "vY_i0YdiAUtP",
        "colab_type": "code",
        "colab": {
          "base_uri": "https://localhost:8080/",
          "height": 163
        },
        "outputId": "9da9d91e-8750-4582-a779-61bd95e52d97"
      },
      "source": [
        "d.k1"
      ],
      "execution_count": 3,
      "outputs": [
        {
          "output_type": "error",
          "ename": "AttributeError",
          "evalue": "ignored",
          "traceback": [
            "\u001b[0;31m---------------------------------------------------------------------------\u001b[0m",
            "\u001b[0;31mAttributeError\u001b[0m                            Traceback (most recent call last)",
            "\u001b[0;32m<ipython-input-3-4e4a301f0fa5>\u001b[0m in \u001b[0;36m<module>\u001b[0;34m()\u001b[0m\n\u001b[0;32m----> 1\u001b[0;31m \u001b[0md\u001b[0m\u001b[0;34m.\u001b[0m\u001b[0mk1\u001b[0m\u001b[0;34m\u001b[0m\u001b[0;34m\u001b[0m\u001b[0m\n\u001b[0m",
            "\u001b[0;31mAttributeError\u001b[0m: 'dict' object has no attribute 'k1'"
          ]
        }
      ]
    },
    {
      "cell_type": "code",
      "metadata": {
        "id": "YpyVg5lwYIwR",
        "colab_type": "code",
        "colab": {
          "base_uri": "https://localhost:8080/",
          "height": 163
        },
        "outputId": "5121210e-0b96-478a-a2f3-31ab21c5ac15"
      },
      "source": [
        "d[k1]"
      ],
      "execution_count": 4,
      "outputs": [
        {
          "output_type": "error",
          "ename": "NameError",
          "evalue": "ignored",
          "traceback": [
            "\u001b[0;31m---------------------------------------------------------------------------\u001b[0m",
            "\u001b[0;31mNameError\u001b[0m                                 Traceback (most recent call last)",
            "\u001b[0;32m<ipython-input-4-b3d59b95a6c8>\u001b[0m in \u001b[0;36m<module>\u001b[0;34m()\u001b[0m\n\u001b[0;32m----> 1\u001b[0;31m \u001b[0md\u001b[0m\u001b[0;34m[\u001b[0m\u001b[0mk1\u001b[0m\u001b[0;34m]\u001b[0m\u001b[0;34m\u001b[0m\u001b[0;34m\u001b[0m\u001b[0m\n\u001b[0m",
            "\u001b[0;31mNameError\u001b[0m: name 'k1' is not defined"
          ]
        }
      ]
    },
    {
      "cell_type": "code",
      "metadata": {
        "id": "GYIAx1Q7YVfI",
        "colab_type": "code",
        "colab": {
          "base_uri": "https://localhost:8080/",
          "height": 35
        },
        "outputId": "1cbb31a1-901c-4cf3-fb89-ef951041445c"
      },
      "source": [
        "d['k1']"
      ],
      "execution_count": 7,
      "outputs": [
        {
          "output_type": "execute_result",
          "data": {
            "application/vnd.google.colaboratory.intrinsic+json": {
              "type": "string"
            },
            "text/plain": [
              "'1'"
            ]
          },
          "metadata": {
            "tags": []
          },
          "execution_count": 7
        }
      ]
    },
    {
      "cell_type": "markdown",
      "metadata": {
        "id": "Xq7tLgrDYnhB",
        "colab_type": "text"
      },
      "source": [
        "Dictionaries are very fexible in datatype they can hold."
      ]
    },
    {
      "cell_type": "code",
      "metadata": {
        "id": "3DDfsMJ0YRzG",
        "colab_type": "code",
        "colab": {
          "base_uri": "https://localhost:8080/",
          "height": 34
        },
        "outputId": "2fb16757-a8c8-4cdc-817e-b8c81ae24438"
      },
      "source": [
        "d1={1:'2','a':[1,2,\"abc\"],1.5:5}\n",
        "d1"
      ],
      "execution_count": 9,
      "outputs": [
        {
          "output_type": "execute_result",
          "data": {
            "text/plain": [
              "{1: '2', 1.5: 5, 'a': [1, 2, 'abc']}"
            ]
          },
          "metadata": {
            "tags": []
          },
          "execution_count": 9
        }
      ]
    },
    {
      "cell_type": "markdown",
      "metadata": {
        "id": "psr0pm7aZIxG",
        "colab_type": "text"
      },
      "source": [
        "we can call index on that value"
      ]
    },
    {
      "cell_type": "code",
      "metadata": {
        "id": "HlY9Y6SBYhgi",
        "colab_type": "code",
        "colab": {
          "base_uri": "https://localhost:8080/",
          "height": 35
        },
        "outputId": "4885095a-4c0d-4b2c-fa86-8d82ac9614da"
      },
      "source": [
        "d1['a'][2]"
      ],
      "execution_count": 11,
      "outputs": [
        {
          "output_type": "execute_result",
          "data": {
            "application/vnd.google.colaboratory.intrinsic+json": {
              "type": "string"
            },
            "text/plain": [
              "'abc'"
            ]
          },
          "metadata": {
            "tags": []
          },
          "execution_count": 11
        }
      ]
    },
    {
      "cell_type": "markdown",
      "metadata": {
        "id": "rMPVdkCBZMn4",
        "colab_type": "text"
      },
      "source": [
        "We can call method on that value"
      ]
    },
    {
      "cell_type": "code",
      "metadata": {
        "id": "Phk75GkAZFZX",
        "colab_type": "code",
        "colab": {
          "base_uri": "https://localhost:8080/",
          "height": 35
        },
        "outputId": "f90d5c9b-f534-43d6-c333-0c2ff5457c9f"
      },
      "source": [
        "d1['a'][2].upper()"
      ],
      "execution_count": 12,
      "outputs": [
        {
          "output_type": "execute_result",
          "data": {
            "application/vnd.google.colaboratory.intrinsic+json": {
              "type": "string"
            },
            "text/plain": [
              "'ABC'"
            ]
          },
          "metadata": {
            "tags": []
          },
          "execution_count": 12
        }
      ]
    },
    {
      "cell_type": "markdown",
      "metadata": {
        "id": "NfvlRRMPaSRi",
        "colab_type": "text"
      },
      "source": [
        "We can change or affect the key value also"
      ]
    },
    {
      "cell_type": "code",
      "metadata": {
        "id": "yKfYYOI2ZTFS",
        "colab_type": "code",
        "colab": {
          "base_uri": "https://localhost:8080/",
          "height": 34
        },
        "outputId": "5de2912c-dffe-4a5d-e6ab-6698a8dc86f3"
      },
      "source": [
        "d['k1']=d['k1']+'234'\n",
        "d"
      ],
      "execution_count": 14,
      "outputs": [
        {
          "output_type": "execute_result",
          "data": {
            "text/plain": [
              "{'k1': '1234', 'k2': '2', 'k3': '3'}"
            ]
          },
          "metadata": {
            "tags": []
          },
          "execution_count": 14
        }
      ]
    },
    {
      "cell_type": "markdown",
      "metadata": {
        "id": "7DjMiqX1a11w",
        "colab_type": "text"
      },
      "source": [
        "we can also create keys by assignment."
      ]
    },
    {
      "cell_type": "code",
      "metadata": {
        "id": "LpWRyhFoaq9J",
        "colab_type": "code",
        "colab": {
          "base_uri": "https://localhost:8080/",
          "height": 34
        },
        "outputId": "56c54cc0-ca56-4a37-dfea-85dcd41c958f"
      },
      "source": [
        "d3={}\n",
        "d3[1]=2\n",
        "d3[2]=3\n",
        "d3"
      ],
      "execution_count": 16,
      "outputs": [
        {
          "output_type": "execute_result",
          "data": {
            "text/plain": [
              "{1: 2, 2: 3}"
            ]
          },
          "metadata": {
            "tags": []
          },
          "execution_count": 16
        }
      ]
    },
    {
      "cell_type": "markdown",
      "metadata": {
        "id": "wDbrEaWfbPFl",
        "colab_type": "text"
      },
      "source": [
        "What happens if we have same key for different values?"
      ]
    },
    {
      "cell_type": "code",
      "metadata": {
        "id": "qvae7ofCbAtJ",
        "colab_type": "code",
        "colab": {
          "base_uri": "https://localhost:8080/",
          "height": 34
        },
        "outputId": "33db4d2b-43ec-4ecd-b0a3-73b9c804b734"
      },
      "source": [
        "d4={1:2,1:3,1:4,1:5}\n",
        "d4"
      ],
      "execution_count": 17,
      "outputs": [
        {
          "output_type": "execute_result",
          "data": {
            "text/plain": [
              "{1: 5}"
            ]
          },
          "metadata": {
            "tags": []
          },
          "execution_count": 17
        }
      ]
    },
    {
      "cell_type": "markdown",
      "metadata": {
        "id": "xgTbvV94bpY5",
        "colab_type": "text"
      },
      "source": [
        "**Nested dictionaries**"
      ]
    },
    {
      "cell_type": "code",
      "metadata": {
        "id": "grKstcR9bkkI",
        "colab_type": "code",
        "colab": {
          "base_uri": "https://localhost:8080/",
          "height": 35
        },
        "outputId": "114d8387-b1f4-4eb7-fecd-25a16e5af4ff"
      },
      "source": [
        "d5={'k1':{'k2':{'k3':\"value\"}}}\n",
        "d5['k1']['k2']['k3']"
      ],
      "execution_count": 19,
      "outputs": [
        {
          "output_type": "execute_result",
          "data": {
            "application/vnd.google.colaboratory.intrinsic+json": {
              "type": "string"
            },
            "text/plain": [
              "'value'"
            ]
          },
          "metadata": {
            "tags": []
          },
          "execution_count": 19
        }
      ]
    },
    {
      "cell_type": "markdown",
      "metadata": {
        "id": "2ag7yZGTcIKh",
        "colab_type": "text"
      },
      "source": [
        "**Methods:**"
      ]
    },
    {
      "cell_type": "code",
      "metadata": {
        "id": "nywCBO7ocMiW",
        "colab_type": "code",
        "colab": {
          "base_uri": "https://localhost:8080/",
          "height": 34
        },
        "outputId": "25f53673-0a75-454c-abd6-71aac62defd6"
      },
      "source": [
        "d.keys()\n"
      ],
      "execution_count": 25,
      "outputs": [
        {
          "output_type": "execute_result",
          "data": {
            "text/plain": [
              "dict_keys(['k1', 'k2', 'k3'])"
            ]
          },
          "metadata": {
            "tags": []
          },
          "execution_count": 25
        }
      ]
    },
    {
      "cell_type": "code",
      "metadata": {
        "id": "mStQySmGbfGc",
        "colab_type": "code",
        "colab": {
          "base_uri": "https://localhost:8080/",
          "height": 34
        },
        "outputId": "8d86fd30-360b-4767-a47b-9ba6457dde1d"
      },
      "source": [
        "d.values()"
      ],
      "execution_count": 32,
      "outputs": [
        {
          "output_type": "execute_result",
          "data": {
            "text/plain": [
              "dict_values(['1234', '2', '3'])"
            ]
          },
          "metadata": {
            "tags": []
          },
          "execution_count": 32
        }
      ]
    },
    {
      "cell_type": "code",
      "metadata": {
        "id": "WneJjR8tcUC_",
        "colab_type": "code",
        "colab": {
          "base_uri": "https://localhost:8080/",
          "height": 34
        },
        "outputId": "4e66001d-6642-4431-d079-980100e94430"
      },
      "source": [
        "d.items()"
      ],
      "execution_count": 33,
      "outputs": [
        {
          "output_type": "execute_result",
          "data": {
            "text/plain": [
              "dict_items([('k1', '1234'), ('k2', '2'), ('k3', '3')])"
            ]
          },
          "metadata": {
            "tags": []
          },
          "execution_count": 33
        }
      ]
    }
  ]
}