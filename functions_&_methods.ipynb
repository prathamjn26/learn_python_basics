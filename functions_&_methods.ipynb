{
  "nbformat": 4,
  "nbformat_minor": 0,
  "metadata": {
    "colab": {
      "name": "functions & methods.ipynb",
      "provenance": [],
      "authorship_tag": "ABX9TyOsIWWFQQHtrxcp657wAGfb"
    },
    "kernelspec": {
      "name": "python3",
      "display_name": "Python 3"
    }
  },
  "cells": [
    {
      "cell_type": "markdown",
      "metadata": {
        "id": "ehl0kvkThUQa",
        "colab_type": "text"
      },
      "source": [
        "#**Methods:**"
      ]
    },
    {
      "cell_type": "markdown",
      "metadata": {
        "id": "POSgLNrChbMl",
        "colab_type": "text"
      },
      "source": [
        "Methods are essentially functions built into objects.Methods perform specific actions on an object & can take arguments, just like a functions."
      ]
    },
    {
      "cell_type": "markdown",
      "metadata": {
        "id": "aBXeZCe-iBtL",
        "colab_type": "text"
      },
      "source": [
        "#**Functions:**"
      ]
    },
    {
      "cell_type": "code",
      "metadata": {
        "id": "Ov3Pj_Xzs5t7",
        "colab_type": "code",
        "colab": {
          "base_uri": "https://localhost:8080/",
          "height": 34
        },
        "outputId": "e24b3446-22cf-4ded-e56b-6d873ac04c27"
      },
      "source": [
        "def greet():      #normal function\n",
        "  print('hello')\n",
        "greet()"
      ],
      "execution_count": 1,
      "outputs": [
        {
          "output_type": "stream",
          "text": [
            "hello\n"
          ],
          "name": "stdout"
        }
      ]
    },
    {
      "cell_type": "code",
      "metadata": {
        "id": "20dZ7xtHiLIm",
        "colab_type": "code",
        "colab": {
          "base_uri": "https://localhost:8080/",
          "height": 34
        },
        "outputId": "7bca8ba9-c7d6-432a-9de1-05778c94f46c"
      },
      "source": [
        "def greet(name):      #with parameter\n",
        "  print(f'hello {name}')\n",
        "greet('pratham')"
      ],
      "execution_count": 5,
      "outputs": [
        {
          "output_type": "stream",
          "text": [
            "hello pratham\n"
          ],
          "name": "stdout"
        }
      ]
    },
    {
      "cell_type": "code",
      "metadata": {
        "id": "mmMYRqozidFb",
        "colab_type": "code",
        "colab": {
          "base_uri": "https://localhost:8080/",
          "height": 34
        },
        "outputId": "a7520942-0bbf-4f18-b3b2-9006c44c3f0c"
      },
      "source": [
        "def greet(name=\"Name\"):      #with parameter and default value\n",
        "  print(f'hello {name}')\n",
        "greet()"
      ],
      "execution_count": 6,
      "outputs": [
        {
          "output_type": "stream",
          "text": [
            "hello Name\n"
          ],
          "name": "stdout"
        }
      ]
    },
    {
      "cell_type": "code",
      "metadata": {
        "id": "2UB7e4zjjfgf",
        "colab_type": "code",
        "colab": {
          "base_uri": "https://localhost:8080/",
          "height": 34
        },
        "outputId": "dc81c089-726f-4a6e-b577-1e090bf57b34"
      },
      "source": [
        "def add(n,m):             #return statement\n",
        "  return n+m\n",
        "print(add(3,4))"
      ],
      "execution_count": 8,
      "outputs": [
        {
          "output_type": "stream",
          "text": [
            "7\n"
          ],
          "name": "stdout"
        }
      ]
    },
    {
      "cell_type": "markdown",
      "metadata": {
        "id": "wVoKnWGQMlNi",
        "colab_type": "text"
      },
      "source": [
        "****kargs & *args in python:**"
      ]
    },
    {
      "cell_type": "markdown",
      "metadata": {
        "id": "ZaA2cnovM-7q",
        "colab_type": "text"
      },
      "source": [
        "*args: python has *args which allows us to pass variable no. og non keyword argument to function."
      ]
    },
    {
      "cell_type": "code",
      "metadata": {
        "id": "4B5jOCCgOaWQ",
        "colab_type": "code",
        "colab": {
          "base_uri": "https://localhost:8080/",
          "height": 34
        },
        "outputId": "91412042-ee39-472e-ca37-3da48bfcf1ab"
      },
      "source": [
        "def my_func(*a):\n",
        "  print(a)\n",
        "my_func(1,2,3,4,5)\n"
      ],
      "execution_count": 15,
      "outputs": [
        {
          "output_type": "stream",
          "text": [
            "(1, 2, 3, 4, 5)\n"
          ],
          "name": "stdout"
        }
      ]
    },
    {
      "cell_type": "markdown",
      "metadata": {
        "id": "6Zv4yDOCk-qu",
        "colab_type": "text"
      },
      "source": [
        "**kargs:it allow us to pass the variable lenght of keyword argument to the function."
      ]
    },
    {
      "cell_type": "code",
      "metadata": {
        "id": "_IOtWZK0kTHg",
        "colab_type": "code",
        "colab": {
          "base_uri": "https://localhost:8080/",
          "height": 85
        },
        "outputId": "f523c74c-a0d2-405a-a929-57fad380add7"
      },
      "source": [
        "def intro(**k):\n",
        "  for i,j in k.items():\n",
        "    print(f'{i} is {j}')\n",
        "\n",
        "intro(fname='sita',lname=\"sharma\",age=22,mob=1234)"
      ],
      "execution_count": 19,
      "outputs": [
        {
          "output_type": "stream",
          "text": [
            "fname is sita\n",
            "lname is sharma\n",
            "age is 22\n",
            "mob is 1234\n"
          ],
          "name": "stdout"
        }
      ]
    },
    {
      "cell_type": "markdown",
      "metadata": {
        "id": "3Uq_PAB7lPlQ",
        "colab_type": "text"
      },
      "source": [
        "**Note:**we can pass both the argument * args and ** kargs but must we can pass * args first then **kargs."
      ]
    },
    {
      "cell_type": "code",
      "metadata": {
        "id": "b2SijIEqigxl",
        "colab_type": "code",
        "colab": {}
      },
      "source": [
        "def myfunc(*a,**b):         #this is valid\n",
        "  print(a)\n",
        "  print(b)"
      ],
      "execution_count": 20,
      "outputs": []
    },
    {
      "cell_type": "code",
      "metadata": {
        "id": "AS7_Lu-Zl3SV",
        "colab_type": "code",
        "colab": {
          "base_uri": "https://localhost:8080/",
          "height": 129
        },
        "outputId": "9f8d4e67-f2c3-4185-a364-24c0a36bdfc0"
      },
      "source": [
        "def myfunc(**a,*b):         #this is not valid\n",
        "  print(a)\n",
        "  print(b)"
      ],
      "execution_count": 21,
      "outputs": [
        {
          "output_type": "error",
          "ename": "SyntaxError",
          "evalue": "ignored",
          "traceback": [
            "\u001b[0;36m  File \u001b[0;32m\"<ipython-input-21-3666caf1dcc6>\"\u001b[0;36m, line \u001b[0;32m1\u001b[0m\n\u001b[0;31m    def myfunc(**a,*b):         #this is not valid\u001b[0m\n\u001b[0m                   ^\u001b[0m\n\u001b[0;31mSyntaxError\u001b[0m\u001b[0;31m:\u001b[0m invalid syntax\n"
          ]
        }
      ]
    },
    {
      "cell_type": "markdown",
      "metadata": {
        "id": "gpxhnHU8nEaT",
        "colab_type": "text"
      },
      "source": [
        "#**Examples:**"
      ]
    },
    {
      "cell_type": "code",
      "metadata": {
        "id": "CETtxY8nl_hG",
        "colab_type": "code",
        "colab": {
          "base_uri": "https://localhost:8080/",
          "height": 34
        },
        "outputId": "5f5f84e3-22be-4528-8cb8-a0bfc532044d"
      },
      "source": [
        "def even(*args):\n",
        "  l=[]\n",
        "  for i in args:\n",
        "    if i%2==0:\n",
        "      l.append(i)\n",
        "  return l\n",
        "s=even(1,2,3,4,5,6,7,8,9,2,3,23,45,65,67,88,84)\n",
        "s"
      ],
      "execution_count": 23,
      "outputs": [
        {
          "output_type": "execute_result",
          "data": {
            "text/plain": [
              "[2, 4, 6, 8, 2, 88, 84]"
            ]
          },
          "metadata": {
            "tags": []
          },
          "execution_count": 23
        }
      ]
    },
    {
      "cell_type": "code",
      "metadata": {
        "id": "eqdTuELVnuHk",
        "colab_type": "code",
        "colab": {
          "base_uri": "https://localhost:8080/",
          "height": 34
        },
        "outputId": "2482428c-d44c-407f-b4f8-794ecdc0d2c2"
      },
      "source": [
        "def paper_doll(text):\n",
        "  t=[]\n",
        "  i=0\n",
        "  while i!=len(text):\n",
        "    t.append(text[i]*3)\n",
        "    i+=1\n",
        "  return \"\".join(t)\n",
        "print(paper_doll('hello'))"
      ],
      "execution_count": 26,
      "outputs": [
        {
          "output_type": "stream",
          "text": [
            "hhheeellllllooo\n"
          ],
          "name": "stdout"
        }
      ]
    },
    {
      "cell_type": "markdown",
      "metadata": {
        "id": "b3qjHb0XHkUR",
        "colab_type": "text"
      },
      "source": [
        "#**Map:**"
      ]
    },
    {
      "cell_type": "markdown",
      "metadata": {
        "id": "BJ8HHNsoHm4W",
        "colab_type": "text"
      },
      "source": [
        "map():it allow us to map afunction to iterable(list,tuples) object.\n",
        "\n",
        "                                map(fun,iter)\n",
        "\n",
        "fun:its a function to which map passes each element of given iterable.\n",
        "\n",
        "iter:its a iterable which is to be mapped."
      ]
    },
    {
      "cell_type": "code",
      "metadata": {
        "id": "Zkibfe0Lr2GC",
        "colab_type": "code",
        "colab": {
          "base_uri": "https://localhost:8080/",
          "height": 34
        },
        "outputId": "23be4223-cd26-48f5-c65b-9c827e50f242"
      },
      "source": [
        "def addition(n):\n",
        "  return n+n\n",
        "list(map(addition,(1,2,3,4,5)))"
      ],
      "execution_count": 27,
      "outputs": [
        {
          "output_type": "execute_result",
          "data": {
            "text/plain": [
              "[2, 4, 6, 8, 10]"
            ]
          },
          "metadata": {
            "tags": []
          },
          "execution_count": 27
        }
      ]
    },
    {
      "cell_type": "markdown",
      "metadata": {
        "id": "KY6d5gTbKsxs",
        "colab_type": "text"
      },
      "source": [
        "#**Filter:**"
      ]
    },
    {
      "cell_type": "markdown",
      "metadata": {
        "id": "iowCV8DJKwM3",
        "colab_type": "text"
      },
      "source": [
        "Filter method filters the given sequence with the help of a function that test each element in the sequence to be true or not.\n",
        "\n",
        "                                     filter(fun,sequence)\n",
        "\n",
        "fun: it is uesd to check each element of seq. is true or not.\n",
        "\n",
        "sequence: sequence which needs to be filtered ,it can be sets, list and tuples."
      ]
    },
    {
      "cell_type": "code",
      "metadata": {
        "id": "WdDaSvEfIeSq",
        "colab_type": "code",
        "colab": {
          "base_uri": "https://localhost:8080/",
          "height": 34
        },
        "outputId": "b5750f2e-b607-4861-8a0a-1cb57e6102e6"
      },
      "source": [
        "def filter_letters(s):\n",
        "  letters=['a','e','i','o','u']\n",
        "  if s in letters:\n",
        "    return True\n",
        "  else:\n",
        "    return False\n",
        "tuple(filter(filter_letters,['a','b','c','d','f','e']))"
      ],
      "execution_count": 30,
      "outputs": [
        {
          "output_type": "execute_result",
          "data": {
            "text/plain": [
              "('a', 'e')"
            ]
          },
          "metadata": {
            "tags": []
          },
          "execution_count": 30
        }
      ]
    },
    {
      "cell_type": "code",
      "metadata": {
        "id": "YBad9yfXMQjo",
        "colab_type": "code",
        "colab": {
          "base_uri": "https://localhost:8080/",
          "height": 34
        },
        "outputId": "c5a15ea8-512e-49b7-8f79-5928b00ef8d8"
      },
      "source": [
        "def filter_words(s):\n",
        "  letters=['a','e','i','o','u']\n",
        "  for i in s:\n",
        "    if i in letters:\n",
        "      return True\n",
        "      break\n",
        "    else:\n",
        "      continue\n",
        "tuple(filter(filter_words,['sdfa','bcdf','ceft','ddde','ffdth','eaiouaoi']))"
      ],
      "execution_count": 35,
      "outputs": [
        {
          "output_type": "execute_result",
          "data": {
            "text/plain": [
              "('sdfa', 'ceft', 'ddde', 'eaiouaoi')"
            ]
          },
          "metadata": {
            "tags": []
          },
          "execution_count": 35
        }
      ]
    },
    {
      "cell_type": "markdown",
      "metadata": {
        "id": "FHIE7Z9DRKlp",
        "colab_type": "text"
      },
      "source": [
        "#**Lambda Expression:**"
      ]
    },
    {
      "cell_type": "markdown",
      "metadata": {
        "id": "vZGJBHnmRRHl",
        "colab_type": "text"
      },
      "source": [
        "it allow us to create anonymous function.\n",
        "\n",
        "basically means we can quickly make an ad-hoc functions without needing to properly defin a function using def."
      ]
    },
    {
      "cell_type": "code",
      "metadata": {
        "id": "SM-Ky1FAN47Q",
        "colab_type": "code",
        "colab": {
          "base_uri": "https://localhost:8080/",
          "height": 34
        },
        "outputId": "98ff483f-fb22-4fcb-89d8-37245b8b3abd"
      },
      "source": [
        "(lambda n:n+n,[1,2,3,4])"
      ],
      "execution_count": 38,
      "outputs": [
        {
          "output_type": "execute_result",
          "data": {
            "text/plain": [
              "(<function __main__.<lambda>>, [1, 2, 3, 4])"
            ]
          },
          "metadata": {
            "tags": []
          },
          "execution_count": 38
        }
      ]
    },
    {
      "cell_type": "code",
      "metadata": {
        "id": "olHEdWZBSCfP",
        "colab_type": "code",
        "colab": {
          "base_uri": "https://localhost:8080/",
          "height": 34
        },
        "outputId": "33f7ded1-2ac7-4625-af1e-34303b658979"
      },
      "source": [
        "x=lambda n:n+n\n",
        "x(2)"
      ],
      "execution_count": 41,
      "outputs": [
        {
          "output_type": "execute_result",
          "data": {
            "text/plain": [
              "4"
            ]
          },
          "metadata": {
            "tags": []
          },
          "execution_count": 41
        }
      ]
    },
    {
      "cell_type": "code",
      "metadata": {
        "id": "Vx1r3EcZSXGY",
        "colab_type": "code",
        "colab": {
          "base_uri": "https://localhost:8080/",
          "height": 204
        },
        "outputId": "6247ca12-9eea-44d8-9519-bc5789887519"
      },
      "source": [
        "list(filter(lambda x:print(x),map(lambda x:x%2==0,range(10))))"
      ],
      "execution_count": 45,
      "outputs": [
        {
          "output_type": "stream",
          "text": [
            "True\n",
            "False\n",
            "True\n",
            "False\n",
            "True\n",
            "False\n",
            "True\n",
            "False\n",
            "True\n",
            "False\n"
          ],
          "name": "stdout"
        },
        {
          "output_type": "execute_result",
          "data": {
            "text/plain": [
              "[]"
            ]
          },
          "metadata": {
            "tags": []
          },
          "execution_count": 45
        }
      ]
    },
    {
      "cell_type": "code",
      "metadata": {
        "id": "rsdqgKb-TjAT",
        "colab_type": "code",
        "colab": {
          "base_uri": "https://localhost:8080/",
          "height": 102
        },
        "outputId": "c52c5996-b783-4d63-f4a7-29fa63734130"
      },
      "source": [
        "a=[1,2,3,4,5]\n",
        "b=[4,5,6,7,8,9]\n",
        "for i in map(lambda x,y:x+y,a,b):\n",
        "  print(i)"
      ],
      "execution_count": 47,
      "outputs": [
        {
          "output_type": "stream",
          "text": [
            "5\n",
            "7\n",
            "9\n",
            "11\n",
            "13\n"
          ],
          "name": "stdout"
        }
      ]
    },
    {
      "cell_type": "code",
      "metadata": {
        "id": "lUDHo3PiVYfS",
        "colab_type": "code",
        "colab": {}
      },
      "source": [
        ""
      ],
      "execution_count": null,
      "outputs": []
    }
  ]
}