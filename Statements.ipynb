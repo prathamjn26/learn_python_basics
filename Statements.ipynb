{
  "nbformat": 4,
  "nbformat_minor": 0,
  "metadata": {
    "colab": {
      "name": "Statements.ipynb",
      "provenance": [],
      "authorship_tag": "ABX9TyPJ+pwwfVwDJzIAlWAfE3p/",
      "include_colab_link": true
    },
    "kernelspec": {
      "name": "python3",
      "display_name": "Python 3"
    }
  },
  "cells": [
    {
      "cell_type": "markdown",
      "metadata": {
        "id": "view-in-github",
        "colab_type": "text"
      },
      "source": [
        "<a href=\"https://colab.research.google.com/github/prathamjn26/learn_python_basics/blob/master/Statements.ipynb\" target=\"_parent\"><img src=\"https://colab.research.google.com/assets/colab-badge.svg\" alt=\"Open In Colab\"/></a>"
      ]
    },
    {
      "cell_type": "markdown",
      "metadata": {
        "id": "DTRy4LjpOCLG",
        "colab_type": "text"
      },
      "source": [
        "#**if/else:**"
      ]
    },
    {
      "cell_type": "code",
      "metadata": {
        "id": "j1Xc2nNhN-Tv",
        "colab_type": "code",
        "colab": {
          "base_uri": "https://localhost:8080/",
          "height": 34
        },
        "outputId": "25774031-d8e1-4fbc-9cab-cc3312e38cb6"
      },
      "source": [
        "a=3\n",
        "b=4\n",
        "if a>b:\n",
        "  print(a)\n",
        "else:\n",
        "  print(b)"
      ],
      "execution_count": 1,
      "outputs": [
        {
          "output_type": "stream",
          "text": [
            "4\n"
          ],
          "name": "stdout"
        }
      ]
    },
    {
      "cell_type": "code",
      "metadata": {
        "id": "qFH9-RUdO1Ag",
        "colab_type": "code",
        "colab": {
          "base_uri": "https://localhost:8080/",
          "height": 34
        },
        "outputId": "cbbc1b46-ee62-4cdd-b93e-36a65b4d9077"
      },
      "source": [
        "a=True\n",
        "b=False\n",
        "if a:\n",
        "  print('a')\n",
        "else:\n",
        "  print('b')"
      ],
      "execution_count": 3,
      "outputs": [
        {
          "output_type": "stream",
          "text": [
            "a\n"
          ],
          "name": "stdout"
        }
      ]
    },
    {
      "cell_type": "markdown",
      "metadata": {
        "id": "fWq4-inqPGiY",
        "colab_type": "text"
      },
      "source": [
        "#**if,elif & else:**"
      ]
    },
    {
      "cell_type": "code",
      "metadata": {
        "id": "0WL_b5auPCPs",
        "colab_type": "code",
        "colab": {
          "base_uri": "https://localhost:8080/",
          "height": 34
        },
        "outputId": "233d3000-57cf-4cec-da24-a1ca14368118"
      },
      "source": [
        "loc='bank'\n",
        "if loc=='bank':\n",
        "  print('bank')\n",
        "elif loc=='Auto_shop':\n",
        "  print('Auto')\n",
        "else:\n",
        "  print('nothing')"
      ],
      "execution_count": 7,
      "outputs": [
        {
          "output_type": "stream",
          "text": [
            "bank\n"
          ],
          "name": "stdout"
        }
      ]
    },
    {
      "cell_type": "markdown",
      "metadata": {
        "id": "lv_Z3yPzRUt1",
        "colab_type": "text"
      },
      "source": [
        "#**for loop:**"
      ]
    },
    {
      "cell_type": "code",
      "metadata": {
        "id": "HpMtErH5QUCP",
        "colab_type": "code",
        "colab": {}
      },
      "source": [
        "list1=[1,2,3,4,5,6,7,8,9,10]\n"
      ],
      "execution_count": 23,
      "outputs": []
    },
    {
      "cell_type": "code",
      "metadata": {
        "id": "q5VCKCO6R22h",
        "colab_type": "code",
        "colab": {
          "base_uri": "https://localhost:8080/",
          "height": 187
        },
        "outputId": "8b309537-2ec8-4b05-f939-1f9aa4d2027e"
      },
      "source": [
        "for i in list1:\n",
        "  print(i)"
      ],
      "execution_count": 24,
      "outputs": [
        {
          "output_type": "stream",
          "text": [
            "1\n",
            "2\n",
            "3\n",
            "4\n",
            "5\n",
            "6\n",
            "7\n",
            "8\n",
            "9\n",
            "10\n"
          ],
          "name": "stdout"
        }
      ]
    },
    {
      "cell_type": "code",
      "metadata": {
        "id": "8rU7CVT6R6MG",
        "colab_type": "code",
        "colab": {
          "base_uri": "https://localhost:8080/",
          "height": 102
        },
        "outputId": "23751ebb-fbcb-4777-f535-be05ef241c2c"
      },
      "source": [
        "for i in list1:\n",
        "  if i%2==0:\n",
        "    print('even:',i)"
      ],
      "execution_count": 25,
      "outputs": [
        {
          "output_type": "stream",
          "text": [
            "even: 2\n",
            "even: 4\n",
            "even: 6\n",
            "even: 8\n",
            "even: 10\n"
          ],
          "name": "stdout"
        }
      ]
    },
    {
      "cell_type": "code",
      "metadata": {
        "id": "H9J5nvYFSDyb",
        "colab_type": "code",
        "colab": {
          "base_uri": "https://localhost:8080/",
          "height": 102
        },
        "outputId": "559ae52c-18de-4931-fdd5-649ea234b925"
      },
      "source": [
        "for i in list1:\n",
        "  if i%2!=0:\n",
        "    print(f'odd:{i}')"
      ],
      "execution_count": 26,
      "outputs": [
        {
          "output_type": "stream",
          "text": [
            "odd:1\n",
            "odd:3\n",
            "odd:5\n",
            "odd:7\n",
            "odd:9\n"
          ],
          "name": "stdout"
        }
      ]
    },
    {
      "cell_type": "code",
      "metadata": {
        "id": "x9RJydOeSko7",
        "colab_type": "code",
        "colab": {
          "base_uri": "https://localhost:8080/",
          "height": 255
        },
        "outputId": "6e7b17c0-0bd6-4a90-9af0-46e1f0bea0da"
      },
      "source": [
        "string='Hello World!!!'\n",
        "for s in string:\n",
        "  print(s)\n",
        "  "
      ],
      "execution_count": 18,
      "outputs": [
        {
          "output_type": "stream",
          "text": [
            "H\n",
            "e\n",
            "l\n",
            "l\n",
            "o\n",
            " \n",
            "W\n",
            "o\n",
            "r\n",
            "l\n",
            "d\n",
            "!\n",
            "!\n",
            "!\n"
          ],
          "name": "stdout"
        }
      ]
    },
    {
      "cell_type": "code",
      "metadata": {
        "id": "Bx4NcF7bTFaf",
        "colab_type": "code",
        "colab": {
          "base_uri": "https://localhost:8080/",
          "height": 136
        },
        "outputId": "5ac50957-3f34-4b86-82e1-a6d7f1598df6"
      },
      "source": [
        "tup=(1,2,3,4,\"a\",\"ad\",\"b\")\n",
        "for t in tup:\n",
        "  print(f'{t}')"
      ],
      "execution_count": 32,
      "outputs": [
        {
          "output_type": "stream",
          "text": [
            "1\n",
            "2\n",
            "3\n",
            "4\n",
            "a\n",
            "ad\n",
            "b\n"
          ],
          "name": "stdout"
        }
      ]
    },
    {
      "cell_type": "code",
      "metadata": {
        "id": "0QwZJQs6iORd",
        "colab_type": "code",
        "colab": {
          "base_uri": "https://localhost:8080/",
          "height": 68
        },
        "outputId": "d9bee11c-6370-40b0-996f-4b3e732e6c8a"
      },
      "source": [
        "l1=[(1,2,3),[5,6,32],(7,8,9)]\n",
        "for s in l1:\n",
        "  print(type(s))"
      ],
      "execution_count": 39,
      "outputs": [
        {
          "output_type": "stream",
          "text": [
            "<class 'tuple'>\n",
            "<class 'list'>\n",
            "<class 'tuple'>\n"
          ],
          "name": "stdout"
        }
      ]
    },
    {
      "cell_type": "code",
      "metadata": {
        "id": "jW_14SdUjykr",
        "colab_type": "code",
        "colab": {
          "base_uri": "https://localhost:8080/",
          "height": 68
        },
        "outputId": "af0f4d45-2627-484a-9d1f-88727688cf8b"
      },
      "source": [
        "d={'1':2,\"a\":3,'acd':\"45\"}\n",
        "for k in d.values():\n",
        "  print(k)"
      ],
      "execution_count": 44,
      "outputs": [
        {
          "output_type": "stream",
          "text": [
            "2\n",
            "3\n",
            "45\n"
          ],
          "name": "stdout"
        }
      ]
    },
    {
      "cell_type": "code",
      "metadata": {
        "id": "HYOUFsgzlkFu",
        "colab_type": "code",
        "colab": {
          "base_uri": "https://localhost:8080/",
          "height": 102
        },
        "outputId": "c844ab27-07f3-49d3-f1cd-409685e7e672"
      },
      "source": [
        "for i in range(0,5):\n",
        "  for j in range(0,i+1):\n",
        "    print('*',end=\" \")\n",
        "  print('\\r')"
      ],
      "execution_count": 2,
      "outputs": [
        {
          "output_type": "stream",
          "text": [
            "* \r\n",
            "* * \r\n",
            "* * * \r\n",
            "* * * * \r\n",
            "* * * * * \r\n"
          ],
          "name": "stdout"
        }
      ]
    },
    {
      "cell_type": "markdown",
      "metadata": {
        "id": "8Vr4CzVZcxHs",
        "colab_type": "text"
      },
      "source": [
        "#**while loop:**"
      ]
    },
    {
      "cell_type": "code",
      "metadata": {
        "id": "t1acgJe8dEex",
        "colab_type": "code",
        "colab": {
          "base_uri": "https://localhost:8080/",
          "height": 34
        },
        "outputId": "1ed4fe63-31d2-47b2-8caf-791cb886ae9b"
      },
      "source": [
        "i=1\n",
        "while i<10:\n",
        "  i=i+1\n",
        "else:\n",
        "  print(i)"
      ],
      "execution_count": 7,
      "outputs": [
        {
          "output_type": "stream",
          "text": [
            "10\n"
          ],
          "name": "stdout"
        }
      ]
    },
    {
      "cell_type": "markdown",
      "metadata": {
        "id": "-SYwMDqrgTaF",
        "colab_type": "text"
      },
      "source": [
        "#**break, continue & pass:**"
      ]
    },
    {
      "cell_type": "markdown",
      "metadata": {
        "id": "2htx8vXvggsn",
        "colab_type": "text"
      },
      "source": [
        "\n",
        "\n",
        "1. breaks out of the current closet enclosing loop.\n",
        "2. goes to the top of th closet enclosing loop.\n",
        "3. does nothing at all.\n",
        "\n"
      ]
    },
    {
      "cell_type": "code",
      "metadata": {
        "id": "fa4alESXganj",
        "colab_type": "code",
        "colab": {
          "base_uri": "https://localhost:8080/",
          "height": 357
        },
        "outputId": "49865fa5-38be-41a6-89f4-a26eb10fd523"
      },
      "source": [
        "x=0\n",
        "while x<10:\n",
        "  print(x)\n",
        "  x+=1\n",
        "  if x==3:\n",
        "    print('Huraah')\n",
        "  else:\n",
        "    print('continue')\n",
        "    continue"
      ],
      "execution_count": 12,
      "outputs": [
        {
          "output_type": "stream",
          "text": [
            "0\n",
            "continue\n",
            "1\n",
            "continue\n",
            "2\n",
            "Huraah\n",
            "3\n",
            "continue\n",
            "4\n",
            "continue\n",
            "5\n",
            "continue\n",
            "6\n",
            "continue\n",
            "7\n",
            "continue\n",
            "8\n",
            "continue\n",
            "9\n",
            "continue\n"
          ],
          "name": "stdout"
        }
      ]
    },
    {
      "cell_type": "code",
      "metadata": {
        "id": "fQbrga3efLWV",
        "colab_type": "code",
        "colab": {
          "base_uri": "https://localhost:8080/",
          "height": 51
        },
        "outputId": "89335ec7-ecb1-4d53-de8a-3e4a469fc227"
      },
      "source": [
        "x=0\n",
        "while x<10:\n",
        "  print(x)\n",
        "  x+=1\n",
        "  if x==3:\n",
        "    print('Huraah')\n",
        "  else:\n",
        "    print('continue')\n",
        "    break"
      ],
      "execution_count": 13,
      "outputs": [
        {
          "output_type": "stream",
          "text": [
            "0\n",
            "continue\n"
          ],
          "name": "stdout"
        }
      ]
    },
    {
      "cell_type": "code",
      "metadata": {
        "id": "eNfzgImfiHfm",
        "colab_type": "code",
        "colab": {
          "base_uri": "https://localhost:8080/",
          "height": 119
        },
        "outputId": "a3c49cad-52e8-42c9-9042-c683b316c575"
      },
      "source": [
        "x=0\n",
        "while x<10:\n",
        "  print(x)\n",
        "  x+=1\n",
        "  if x==3:\n",
        "    print('Huraah')\n",
        "    break\n",
        "  else:\n",
        "    print('continue')\n",
        "    continue"
      ],
      "execution_count": 14,
      "outputs": [
        {
          "output_type": "stream",
          "text": [
            "0\n",
            "continue\n",
            "1\n",
            "continue\n",
            "2\n",
            "Huraah\n"
          ],
          "name": "stdout"
        }
      ]
    },
    {
      "cell_type": "code",
      "metadata": {
        "id": "xGL4QBeAiVx5",
        "colab_type": "code",
        "colab": {
          "base_uri": "https://localhost:8080/",
          "height": 129
        },
        "outputId": "9bd6988f-3045-4a3d-da1b-0a06e9d72199"
      },
      "source": [
        "x=[1,2,3,4]\n",
        "for i in x:"
      ],
      "execution_count": 17,
      "outputs": [
        {
          "output_type": "error",
          "ename": "IndentationError",
          "evalue": "ignored",
          "traceback": [
            "\u001b[0;36m  File \u001b[0;32m\"<ipython-input-17-79dcd7135e86>\"\u001b[0;36m, line \u001b[0;32m3\u001b[0m\n\u001b[0;31m    print('pass')\u001b[0m\n\u001b[0m        ^\u001b[0m\n\u001b[0;31mIndentationError\u001b[0m\u001b[0;31m:\u001b[0m expected an indented block\n"
          ]
        }
      ]
    },
    {
      "cell_type": "code",
      "metadata": {
        "id": "H2Hq9c2VifBb",
        "colab_type": "code",
        "colab": {}
      },
      "source": [
        "x=[1,2,3,4]\n",
        "for i in x:\n",
        "  pass"
      ],
      "execution_count": 16,
      "outputs": []
    },
    {
      "cell_type": "code",
      "metadata": {
        "id": "kkvOho7giiwZ",
        "colab_type": "code",
        "colab": {
          "base_uri": "https://localhost:8080/",
          "height": 34
        },
        "outputId": "5180acc1-12dd-4797-dcde-3248e3345e37"
      },
      "source": [
        "x=[1,2,3,4]\n",
        "for i in x:\n",
        "  pass\n",
        "print('pass')"
      ],
      "execution_count": 18,
      "outputs": [
        {
          "output_type": "stream",
          "text": [
            "pass\n"
          ],
          "name": "stdout"
        }
      ]
    },
    {
      "cell_type": "markdown",
      "metadata": {
        "id": "q1hqF-v0jivd",
        "colab_type": "text"
      },
      "source": [
        "#**Useful operator:**"
      ]
    },
    {
      "cell_type": "markdown",
      "metadata": {
        "id": "87emrjVjjoGN",
        "colab_type": "text"
      },
      "source": [
        "1. range(): allow us to quickly generate a list of integers."
      ]
    },
    {
      "cell_type": "code",
      "metadata": {
        "id": "iFRXEjzDiwcw",
        "colab_type": "code",
        "colab": {
          "base_uri": "https://localhost:8080/",
          "height": 34
        },
        "outputId": "09c76dd7-5de5-4bba-9be1-528c049bcf1f"
      },
      "source": [
        "list(range(0,11)) # not onclude last element\n"
      ],
      "execution_count": 23,
      "outputs": [
        {
          "output_type": "execute_result",
          "data": {
            "text/plain": [
              "[0, 1, 2, 3, 4, 5, 6, 7, 8, 9, 10]"
            ]
          },
          "metadata": {
            "tags": []
          },
          "execution_count": 23
        }
      ]
    },
    {
      "cell_type": "code",
      "metadata": {
        "id": "ryTiU9RdkpgU",
        "colab_type": "code",
        "colab": {
          "base_uri": "https://localhost:8080/",
          "height": 34
        },
        "outputId": "08151294-28be-46ac-90ce-3683bef86aca"
      },
      "source": [
        "list(range(0,20,2))    #last vaue in range function is for gap or we can step"
      ],
      "execution_count": 2,
      "outputs": [
        {
          "output_type": "execute_result",
          "data": {
            "text/plain": [
              "[0, 2, 4, 6, 8, 10, 12, 14, 16, 18]"
            ]
          },
          "metadata": {
            "tags": []
          },
          "execution_count": 2
        }
      ]
    },
    {
      "cell_type": "markdown",
      "metadata": {
        "id": "bqllmBIxaY2V",
        "colab_type": "text"
      },
      "source": [
        "2. enumerate(): its very useful function to use with for loops."
      ]
    },
    {
      "cell_type": "code",
      "metadata": {
        "id": "98AC-eYNW-rP",
        "colab_type": "code",
        "colab": {
          "base_uri": "https://localhost:8080/",
          "height": 119
        },
        "outputId": "54a69836-7c6d-40e1-d550-7e1da8ea4501"
      },
      "source": [
        "for i,l in enumerate('abcdef'):\n",
        "  print(i,l)"
      ],
      "execution_count": 6,
      "outputs": [
        {
          "output_type": "stream",
          "text": [
            "0 a\n",
            "1 b\n",
            "2 c\n",
            "3 d\n",
            "4 e\n",
            "5 f\n"
          ],
          "name": "stdout"
        }
      ]
    },
    {
      "cell_type": "code",
      "metadata": {
        "id": "045EOLA-axSn",
        "colab_type": "code",
        "colab": {
          "base_uri": "https://localhost:8080/",
          "height": 34
        },
        "outputId": "4ae6e0d4-0610-4d38-f5e6-884131774311"
      },
      "source": [
        "list(enumerate('abcd'))"
      ],
      "execution_count": 7,
      "outputs": [
        {
          "output_type": "execute_result",
          "data": {
            "text/plain": [
              "[(0, 'a'), (1, 'b'), (2, 'c'), (3, 'd')]"
            ]
          },
          "metadata": {
            "tags": []
          },
          "execution_count": 7
        }
      ]
    },
    {
      "cell_type": "markdown",
      "metadata": {
        "id": "1iU0Vng3bFkA",
        "colab_type": "text"
      },
      "source": [
        "3. zip(this function is used to quickly create alist of tuples by \"zipping\" up together two lists."
      ]
    },
    {
      "cell_type": "code",
      "metadata": {
        "id": "1KV62xmLbB-I",
        "colab_type": "code",
        "colab": {
          "base_uri": "https://localhost:8080/",
          "height": 34
        },
        "outputId": "7eb7eb87-519f-43b5-9816-d78c21deeeee"
      },
      "source": [
        "l=[1,2,3,4]\n",
        "m=['a','b','c','d']\n",
        "list(zip(l,m))"
      ],
      "execution_count": 9,
      "outputs": [
        {
          "output_type": "execute_result",
          "data": {
            "text/plain": [
              "[(1, 'a'), (2, 'b'), (3, 'c'), (4, 'd')]"
            ]
          },
          "metadata": {
            "tags": []
          },
          "execution_count": 9
        }
      ]
    },
    {
      "cell_type": "code",
      "metadata": {
        "id": "rCHxiMIjbuZe",
        "colab_type": "code",
        "colab": {
          "base_uri": "https://localhost:8080/",
          "height": 34
        },
        "outputId": "96009a5d-ee7e-41b1-b5a4-b482357465a0"
      },
      "source": [
        "l=[1,2,3]\n",
        "m=['a','b','c','d']    #notice here only 3 pair is zip together \n",
        "list(zip(l,m))"
      ],
      "execution_count": 10,
      "outputs": [
        {
          "output_type": "execute_result",
          "data": {
            "text/plain": [
              "[(1, 'a'), (2, 'b'), (3, 'c')]"
            ]
          },
          "metadata": {
            "tags": []
          },
          "execution_count": 10
        }
      ]
    },
    {
      "cell_type": "code",
      "metadata": {
        "id": "VA_m6CL8b1xr",
        "colab_type": "code",
        "colab": {
          "base_uri": "https://localhost:8080/",
          "height": 68
        },
        "outputId": "6a415244-78bb-48db-b5c2-53d0484b5e61"
      },
      "source": [
        "for i,j in zip(l,m):\n",
        "  print(i,j) "
      ],
      "execution_count": 11,
      "outputs": [
        {
          "output_type": "stream",
          "text": [
            "1 a\n",
            "2 b\n",
            "3 c\n"
          ],
          "name": "stdout"
        }
      ]
    },
    {
      "cell_type": "code",
      "metadata": {
        "id": "WUy2fEiEcG6Q",
        "colab_type": "code",
        "colab": {
          "base_uri": "https://localhost:8080/",
          "height": 85
        },
        "outputId": "ee433488-2954-44d2-a2ca-b7e4130577e0"
      },
      "source": [
        "l=[1,2,3,4]\n",
        "t=(12,34,45,67)\n",
        "s='hello'\n",
        "d={1:2,2:3,3:4,4:5,5:6}\n",
        "for i,j,k,l in zip(l,t,s,d):\n",
        "  print(i,j,k,l)"
      ],
      "execution_count": 12,
      "outputs": [
        {
          "output_type": "stream",
          "text": [
            "1 12 h 1\n",
            "2 34 e 2\n",
            "3 45 l 3\n",
            "4 67 l 4\n"
          ],
          "name": "stdout"
        }
      ]
    },
    {
      "cell_type": "markdown",
      "metadata": {
        "id": "3fAhj8JFc3o6",
        "colab_type": "text"
      },
      "source": [
        "4. min() & max():"
      ]
    },
    {
      "cell_type": "code",
      "metadata": {
        "id": "oAd9VqS0cnln",
        "colab_type": "code",
        "colab": {
          "base_uri": "https://localhost:8080/",
          "height": 34
        },
        "outputId": "9a5e51ca-3a10-4fef-c4f7-3be6420f0f5e"
      },
      "source": [
        "s=[1,2,3,4,5,6,7,8]\n",
        "min(s)\n"
      ],
      "execution_count": 14,
      "outputs": [
        {
          "output_type": "execute_result",
          "data": {
            "text/plain": [
              "8"
            ]
          },
          "metadata": {
            "tags": []
          },
          "execution_count": 14
        }
      ]
    },
    {
      "cell_type": "code",
      "metadata": {
        "id": "wEKSN049dBAA",
        "colab_type": "code",
        "colab": {
          "base_uri": "https://localhost:8080/",
          "height": 34
        },
        "outputId": "dd38e17f-1b72-430e-ad86-52386fed0513"
      },
      "source": [
        "max(s)"
      ],
      "execution_count": 15,
      "outputs": [
        {
          "output_type": "execute_result",
          "data": {
            "text/plain": [
              "8"
            ]
          },
          "metadata": {
            "tags": []
          },
          "execution_count": 15
        }
      ]
    },
    {
      "cell_type": "code",
      "metadata": {
        "id": "_KQqpvBZdFMi",
        "colab_type": "code",
        "colab": {
          "base_uri": "https://localhost:8080/",
          "height": 35
        },
        "outputId": "e349d40c-3caa-4732-ee9f-05f4e635cd38"
      },
      "source": [
        "a=['1','b','2','3','a']\n",
        "max(a)"
      ],
      "execution_count": 19,
      "outputs": [
        {
          "output_type": "execute_result",
          "data": {
            "application/vnd.google.colaboratory.intrinsic+json": {
              "type": "string"
            },
            "text/plain": [
              "'b'"
            ]
          },
          "metadata": {
            "tags": []
          },
          "execution_count": 19
        }
      ]
    },
    {
      "cell_type": "code",
      "metadata": {
        "id": "FWaPVXDIdN1k",
        "colab_type": "code",
        "colab": {
          "base_uri": "https://localhost:8080/",
          "height": 35
        },
        "outputId": "4e95e3fe-986f-4689-f2b3-10e5e418334b"
      },
      "source": [
        "min(a)"
      ],
      "execution_count": 20,
      "outputs": [
        {
          "output_type": "execute_result",
          "data": {
            "application/vnd.google.colaboratory.intrinsic+json": {
              "type": "string"
            },
            "text/plain": [
              "'1'"
            ]
          },
          "metadata": {
            "tags": []
          },
          "execution_count": 20
        }
      ]
    },
    {
      "cell_type": "code",
      "metadata": {
        "id": "Ztka8cQvdbf1",
        "colab_type": "code",
        "colab": {
          "base_uri": "https://localhost:8080/",
          "height": 180
        },
        "outputId": "3d8881ee-3194-4a45-a96e-4765f046b124"
      },
      "source": [
        "b=[1,2,3,4,'a','b','c']\n",
        "max(b)"
      ],
      "execution_count": 21,
      "outputs": [
        {
          "output_type": "error",
          "ename": "TypeError",
          "evalue": "ignored",
          "traceback": [
            "\u001b[0;31m---------------------------------------------------------------------------\u001b[0m",
            "\u001b[0;31mTypeError\u001b[0m                                 Traceback (most recent call last)",
            "\u001b[0;32m<ipython-input-21-10a24dcbd154>\u001b[0m in \u001b[0;36m<module>\u001b[0;34m()\u001b[0m\n\u001b[1;32m      1\u001b[0m \u001b[0mb\u001b[0m\u001b[0;34m=\u001b[0m\u001b[0;34m[\u001b[0m\u001b[0;36m1\u001b[0m\u001b[0;34m,\u001b[0m\u001b[0;36m2\u001b[0m\u001b[0;34m,\u001b[0m\u001b[0;36m3\u001b[0m\u001b[0;34m,\u001b[0m\u001b[0;36m4\u001b[0m\u001b[0;34m,\u001b[0m\u001b[0;34m'a'\u001b[0m\u001b[0;34m,\u001b[0m\u001b[0;34m'b'\u001b[0m\u001b[0;34m,\u001b[0m\u001b[0;34m'c'\u001b[0m\u001b[0;34m]\u001b[0m\u001b[0;34m\u001b[0m\u001b[0;34m\u001b[0m\u001b[0m\n\u001b[0;32m----> 2\u001b[0;31m \u001b[0mmax\u001b[0m\u001b[0;34m(\u001b[0m\u001b[0mb\u001b[0m\u001b[0;34m)\u001b[0m\u001b[0;34m\u001b[0m\u001b[0;34m\u001b[0m\u001b[0m\n\u001b[0m",
            "\u001b[0;31mTypeError\u001b[0m: '>' not supported between instances of 'str' and 'int'"
          ]
        }
      ]
    },
    {
      "cell_type": "code",
      "metadata": {
        "id": "8P5yZHiKdhmI",
        "colab_type": "code",
        "colab": {
          "base_uri": "https://localhost:8080/",
          "height": 35
        },
        "outputId": "52fbb420-3416-458c-e94f-5d9b743e1be3"
      },
      "source": [
        "d={'a':1,'b':2,'c':3}\n",
        "min(d)                #bydefault uses keys"
      ],
      "execution_count": 23,
      "outputs": [
        {
          "output_type": "execute_result",
          "data": {
            "application/vnd.google.colaboratory.intrinsic+json": {
              "type": "string"
            },
            "text/plain": [
              "'a'"
            ]
          },
          "metadata": {
            "tags": []
          },
          "execution_count": 23
        }
      ]
    },
    {
      "cell_type": "markdown",
      "metadata": {
        "id": "AQjtwJYed1Kl",
        "colab_type": "text"
      },
      "source": [
        "5. random:Its a library."
      ]
    },
    {
      "cell_type": "code",
      "metadata": {
        "id": "frTrmaJgdpbb",
        "colab_type": "code",
        "colab": {
          "base_uri": "https://localhost:8080/",
          "height": 34
        },
        "outputId": "d0ac9225-bcec-4373-eb90-5674b5c30e96"
      },
      "source": [
        "from random import shuffle\n",
        "li=[1,34,2,56,87]\n",
        "shuffle(li)\n",
        "li"
      ],
      "execution_count": 24,
      "outputs": [
        {
          "output_type": "execute_result",
          "data": {
            "text/plain": [
              "[34, 56, 87, 1, 2]"
            ]
          },
          "metadata": {
            "tags": []
          },
          "execution_count": 24
        }
      ]
    },
    {
      "cell_type": "markdown",
      "metadata": {
        "id": "3CEH72CoeSHX",
        "colab_type": "text"
      },
      "source": [
        "shuffle is an in-place function ,it cant return anything."
      ]
    },
    {
      "cell_type": "code",
      "metadata": {
        "id": "wxi1N9NSePOO",
        "colab_type": "code",
        "colab": {
          "base_uri": "https://localhost:8080/",
          "height": 34
        },
        "outputId": "cd7e2407-73d2-417b-c2b2-ea8dd98dcc89"
      },
      "source": [
        "lis=[1,54,76,2,3,78]\n",
        "t=shuffle(lis)\n",
        "print(t)"
      ],
      "execution_count": 29,
      "outputs": [
        {
          "output_type": "stream",
          "text": [
            "None\n"
          ],
          "name": "stdout"
        }
      ]
    },
    {
      "cell_type": "markdown",
      "metadata": {
        "id": "kUGkbbPQe_Vr",
        "colab_type": "text"
      },
      "source": [
        "randint():it gives random integer in range(a,b) including both a & b."
      ]
    },
    {
      "cell_type": "code",
      "metadata": {
        "id": "RKgFtwrRembK",
        "colab_type": "code",
        "colab": {
          "base_uri": "https://localhost:8080/",
          "height": 34
        },
        "outputId": "be94f018-8b9f-4178-a14d-a08c4cfcdca4"
      },
      "source": [
        "from random import randint\n",
        "randint(1,100)"
      ],
      "execution_count": 31,
      "outputs": [
        {
          "output_type": "execute_result",
          "data": {
            "text/plain": [
              "19"
            ]
          },
          "metadata": {
            "tags": []
          },
          "execution_count": 31
        }
      ]
    },
    {
      "cell_type": "markdown",
      "metadata": {
        "id": "XnR15mtVfZEX",
        "colab_type": "text"
      },
      "source": [
        "6. input():it always accepts anything & return always a string."
      ]
    },
    {
      "cell_type": "code",
      "metadata": {
        "id": "C9y7BddNe85p",
        "colab_type": "code",
        "colab": {
          "base_uri": "https://localhost:8080/",
          "height": 68
        },
        "outputId": "86b4aa8f-6c19-4ed0-bd88-76467bfef3e8"
      },
      "source": [
        "l=input()\n",
        "print(l)\n",
        "type(l)"
      ],
      "execution_count": 32,
      "outputs": [
        {
          "output_type": "stream",
          "text": [
            "1\n",
            "1\n"
          ],
          "name": "stdout"
        },
        {
          "output_type": "execute_result",
          "data": {
            "text/plain": [
              "str"
            ]
          },
          "metadata": {
            "tags": []
          },
          "execution_count": 32
        }
      ]
    },
    {
      "cell_type": "code",
      "metadata": {
        "id": "6MDdzNZbftov",
        "colab_type": "code",
        "colab": {
          "base_uri": "https://localhost:8080/",
          "height": 51
        },
        "outputId": "ab2d689c-5c7b-4f13-8daa-5f8b71f7bd1c"
      },
      "source": [
        "list(input(\"Enter elements of list: \"))"
      ],
      "execution_count": 34,
      "outputs": [
        {
          "output_type": "stream",
          "text": [
            "Enter elements of list: abcdefgthyjilkn\n"
          ],
          "name": "stdout"
        },
        {
          "output_type": "execute_result",
          "data": {
            "text/plain": [
              "['a', 'b', 'c', 'd', 'e', 'f', 'g', 't', 'h', 'y', 'j', 'i', 'l', 'k', 'n']"
            ]
          },
          "metadata": {
            "tags": []
          },
          "execution_count": 34
        }
      ]
    },
    {
      "cell_type": "markdown",
      "metadata": {
        "id": "bK_DdkBfgHsi",
        "colab_type": "text"
      },
      "source": [
        "7. in operator:"
      ]
    },
    {
      "cell_type": "code",
      "metadata": {
        "id": "zOPfCF5lf3V4",
        "colab_type": "code",
        "colab": {
          "base_uri": "https://localhost:8080/",
          "height": 34
        },
        "outputId": "58cf0231-c6aa-48be-8c2d-6e88311ba81c"
      },
      "source": [
        "'x' in ['x','y','z']"
      ],
      "execution_count": 35,
      "outputs": [
        {
          "output_type": "execute_result",
          "data": {
            "text/plain": [
              "True"
            ]
          },
          "metadata": {
            "tags": []
          },
          "execution_count": 35
        }
      ]
    },
    {
      "cell_type": "code",
      "metadata": {
        "id": "LSPxmuRzgSsF",
        "colab_type": "code",
        "colab": {
          "base_uri": "https://localhost:8080/",
          "height": 34
        },
        "outputId": "4345df4e-e567-412f-b079-5152dc840d9d"
      },
      "source": [
        "1 in ['1','2']"
      ],
      "execution_count": 36,
      "outputs": [
        {
          "output_type": "execute_result",
          "data": {
            "text/plain": [
              "False"
            ]
          },
          "metadata": {
            "tags": []
          },
          "execution_count": 36
        }
      ]
    },
    {
      "cell_type": "code",
      "metadata": {
        "id": "FKxN7dx0gXqW",
        "colab_type": "code",
        "colab": {
          "base_uri": "https://localhost:8080/",
          "height": 34
        },
        "outputId": "a28fb010-c968-4563-b73a-48d1d840d3d7"
      },
      "source": [
        "'a' in 'abc'"
      ],
      "execution_count": 39,
      "outputs": [
        {
          "output_type": "execute_result",
          "data": {
            "text/plain": [
              "True"
            ]
          },
          "metadata": {
            "tags": []
          },
          "execution_count": 39
        }
      ]
    },
    {
      "cell_type": "markdown",
      "metadata": {
        "id": "Ga2WTbbbgp1G",
        "colab_type": "text"
      },
      "source": [
        "#**List Comprehensions:**"
      ]
    },
    {
      "cell_type": "code",
      "metadata": {
        "id": "pZkHTX7-gcm0",
        "colab_type": "code",
        "colab": {
          "base_uri": "https://localhost:8080/",
          "height": 34
        },
        "outputId": "3fb6a035-e3bd-4833-e5b6-41933f6001b7"
      },
      "source": [
        "[x for x in \"word\"]"
      ],
      "execution_count": 44,
      "outputs": [
        {
          "output_type": "execute_result",
          "data": {
            "text/plain": [
              "['w', 'o', 'r', 'd']"
            ]
          },
          "metadata": {
            "tags": []
          },
          "execution_count": 44
        }
      ]
    },
    {
      "cell_type": "code",
      "metadata": {
        "id": "zjVMRJtvnmqe",
        "colab_type": "code",
        "colab": {
          "base_uri": "https://localhost:8080/",
          "height": 34
        },
        "outputId": "887de755-483a-41a7-c5d6-663f92bed424"
      },
      "source": [
        "l1=[x**2 for x in range(5)]\n",
        "l1"
      ],
      "execution_count": 46,
      "outputs": [
        {
          "output_type": "execute_result",
          "data": {
            "text/plain": [
              "[0, 1, 4, 9, 16]"
            ]
          },
          "metadata": {
            "tags": []
          },
          "execution_count": 46
        }
      ]
    },
    {
      "cell_type": "code",
      "metadata": {
        "id": "-7bsK2FKn9xW",
        "colab_type": "code",
        "colab": {
          "base_uri": "https://localhost:8080/",
          "height": 442
        },
        "outputId": "ca90671e-0c6b-4314-8fdb-61a5a20d836f"
      },
      "source": [
        "k=[x for x in range(50) if x%2==0]\n",
        "k"
      ],
      "execution_count": 49,
      "outputs": [
        {
          "output_type": "execute_result",
          "data": {
            "text/plain": [
              "[0,\n",
              " 2,\n",
              " 4,\n",
              " 6,\n",
              " 8,\n",
              " 10,\n",
              " 12,\n",
              " 14,\n",
              " 16,\n",
              " 18,\n",
              " 20,\n",
              " 22,\n",
              " 24,\n",
              " 26,\n",
              " 28,\n",
              " 30,\n",
              " 32,\n",
              " 34,\n",
              " 36,\n",
              " 38,\n",
              " 40,\n",
              " 42,\n",
              " 44,\n",
              " 46,\n",
              " 48]"
            ]
          },
          "metadata": {
            "tags": []
          },
          "execution_count": 49
        }
      ]
    },
    {
      "cell_type": "code",
      "metadata": {
        "id": "oyzGxyxLoXOc",
        "colab_type": "code",
        "colab": {
          "base_uri": "https://localhost:8080/",
          "height": 34
        },
        "outputId": "769d8224-d31d-422e-cb75-1ae0fdd718c0"
      },
      "source": [
        "[x if x%2==0 else 'odd' for x in range(10)]"
      ],
      "execution_count": 51,
      "outputs": [
        {
          "output_type": "execute_result",
          "data": {
            "text/plain": [
              "[0, 'odd', 2, 'odd', 4, 'odd', 6, 'odd', 8, 'odd']"
            ]
          },
          "metadata": {
            "tags": []
          },
          "execution_count": 51
        }
      ]
    },
    {
      "cell_type": "code",
      "metadata": {
        "id": "efu6-E7Fo7lV",
        "colab_type": "code",
        "colab": {
          "base_uri": "https://localhost:8080/",
          "height": 34
        },
        "outputId": "e2480dac-d742-4716-fafe-a161d5a65a29"
      },
      "source": [
        "[x**2 for x in [y**2 for y in range(10)]]"
      ],
      "execution_count": 52,
      "outputs": [
        {
          "output_type": "execute_result",
          "data": {
            "text/plain": [
              "[0, 1, 16, 81, 256, 625, 1296, 2401, 4096, 6561]"
            ]
          },
          "metadata": {
            "tags": []
          },
          "execution_count": 52
        }
      ]
    },
    {
      "cell_type": "code",
      "metadata": {
        "id": "oMPZZcThpXw3",
        "colab_type": "code",
        "colab": {
          "base_uri": "https://localhost:8080/",
          "height": 34
        },
        "outputId": "36933783-1b42-427b-db0d-c139ae8d7b22"
      },
      "source": [
        "set([x*y for x in range(4) for y in range(2,6)])"
      ],
      "execution_count": 56,
      "outputs": [
        {
          "output_type": "execute_result",
          "data": {
            "text/plain": [
              "{0, 2, 3, 4, 5, 6, 8, 9, 10, 12, 15}"
            ]
          },
          "metadata": {
            "tags": []
          },
          "execution_count": 56
        }
      ]
    },
    {
      "cell_type": "markdown",
      "metadata": {
        "id": "RQWdpdB4p7Qh",
        "colab_type": "text"
      },
      "source": [
        "#**Examples:**"
      ]
    },
    {
      "cell_type": "code",
      "metadata": {
        "id": "d_H-sAnIpkPl",
        "colab_type": "code",
        "colab": {
          "base_uri": "https://localhost:8080/",
          "height": 34
        },
        "outputId": "3d7bb26d-d957-4ac1-9476-63720f876263"
      },
      "source": [
        "[s for s in 'hey whatsup how u do in'.split() if s[0]=='h']"
      ],
      "execution_count": 59,
      "outputs": [
        {
          "output_type": "execute_result",
          "data": {
            "text/plain": [
              "['hey', 'how']"
            ]
          },
          "metadata": {
            "tags": []
          },
          "execution_count": 59
        }
      ]
    },
    {
      "cell_type": "code",
      "metadata": {
        "id": "lEQYAZwzqcQn",
        "colab_type": "code",
        "colab": {
          "base_uri": "https://localhost:8080/",
          "height": 34
        },
        "outputId": "325183e0-3ada-4251-8dc8-66d3349d91f7"
      },
      "source": [
        "[num for num in range(51) if num%3==0]"
      ],
      "execution_count": 61,
      "outputs": [
        {
          "output_type": "execute_result",
          "data": {
            "text/plain": [
              "[0, 3, 6, 9, 12, 15, 18, 21, 24, 27, 30, 33, 36, 39, 42, 45, 48]"
            ]
          },
          "metadata": {
            "tags": []
          },
          "execution_count": 61
        }
      ]
    },
    {
      "cell_type": "code",
      "metadata": {
        "id": "LkvPCpmNqvVN",
        "colab_type": "code",
        "colab": {
          "base_uri": "https://localhost:8080/",
          "height": 34
        },
        "outputId": "31e77b3a-0b1d-44fd-eb95-97b7d2ed1539"
      },
      "source": [
        "[st for st in 'print every word in the sentence that has an even no. of letter'.split() if len(st)%2==0]"
      ],
      "execution_count": 62,
      "outputs": [
        {
          "output_type": "execute_result",
          "data": {
            "text/plain": [
              "['word', 'in', 'sentence', 'that', 'an', 'even', 'of', 'letter']"
            ]
          },
          "metadata": {
            "tags": []
          },
          "execution_count": 62
        }
      ]
    },
    {
      "cell_type": "code",
      "metadata": {
        "id": "hzXV7k6HrNe4",
        "colab_type": "code",
        "colab": {}
      },
      "source": [
        ""
      ],
      "execution_count": null,
      "outputs": []
    }
  ]
}